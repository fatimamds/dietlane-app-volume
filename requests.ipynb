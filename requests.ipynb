{
  "nbformat": 4,
  "nbformat_minor": 0,
  "metadata": {
    "colab": {
      "name": "requests.ipynb",
      "provenance": [],
      "collapsed_sections": [],
      "authorship_tag": "ABX9TyN9nknSR6fsnrTR+N/uunJq",
      "include_colab_link": true
    },
    "kernelspec": {
      "name": "python3",
      "display_name": "Python 3"
    },
    "language_info": {
      "name": "python"
    }
  },
  "cells": [
    {
      "cell_type": "markdown",
      "metadata": {
        "id": "view-in-github",
        "colab_type": "text"
      },
      "source": [
        "<a href=\"https://colab.research.google.com/github/fatimamds/dietlane_app_volume/blob/master/requests.ipynb\" target=\"_parent\"><img src=\"https://colab.research.google.com/assets/colab-badge.svg\" alt=\"Open In Colab\"/></a>"
      ]
    },
    {
      "cell_type": "markdown",
      "metadata": {
        "id": "jyw2wu7EPgC3"
      },
      "source": [
        "### Sending API requests"
      ]
    },
    {
      "cell_type": "markdown",
      "metadata": {
        "id": "YI6SNi3JhRAU"
      },
      "source": [
        "##### POST Request"
      ]
    },
    {
      "cell_type": "code",
      "metadata": {
        "id": "53_4KLdPKIgO",
        "colab": {
          "base_uri": "https://localhost:8080/"
        },
        "outputId": "28ddbfcd-5952-44ea-eb69-75d25b0efda8"
      },
      "source": [
        "import requests\n",
        "import cv2\n",
        "import base64\n",
        "img = cv2.imread('image.jpg')\n",
        "string_img = base64.b64encode(cv2.imencode('.jpg', img)[1]).decode()\n",
        "req = {\"image\": string_img}\n",
        "res = requests.post(\"http://1f3254f098d2.ngrok.io/uploadimage\", json=req)\n",
        "\n",
        "print(res.status_code)\n",
        "print(res.text)"
      ],
      "execution_count": null,
      "outputs": [
        {
          "output_type": "stream",
          "text": [
            "200\n",
            "{\"foodprofile\":[{\"calories\":247,\"carbs\":52.64,\"fats\":2.22,\"fiber\":1,\"measure\":9.197201945540824,\"name\":\"cake\",\"proteins\":4.44},{\"calories\":270,\"carbs\":49.2,\"fats\":3.59,\"fiber\":2.3,\"measure\":101.7571385533857,\"name\":\"bread\",\"proteins\":9.43},{\"calories\":50,\"carbs\":4.71,\"fats\":3.41,\"fiber\":1.5,\"measure\":6.6169343463927035,\"name\":\"tomato\",\"proteins\":1.08},{\"calories\":23,\"carbs\":3.67,\"fats\":0.52,\"fiber\":2.8,\"measure\":218.50569464695647,\"name\":\"cilantro mint\",\"proteins\":2.13}]}\n",
            "\n"
          ],
          "name": "stdout"
        }
      ]
    },
    {
      "cell_type": "markdown",
      "metadata": {
        "id": "KRO2QlTahUSU"
      },
      "source": [
        "###### GET Request"
      ]
    },
    {
      "cell_type": "code",
      "metadata": {
        "id": "n5JP8O5NsyNR"
      },
      "source": [
        "import requests\n",
        "req = requests.get(\"http://172.28.0.2:6000/\")\n",
        "\n",
        "print(req.status_code)\n",
        "print(req.text)"
      ],
      "execution_count": null,
      "outputs": []
    }
  ]
}