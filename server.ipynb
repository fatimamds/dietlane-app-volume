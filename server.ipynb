{
  "nbformat": 4,
  "nbformat_minor": 0,
  "metadata": {
    "colab": {
      "name": "server.ipynb",
      "provenance": [],
      "collapsed_sections": [],
      "authorship_tag": "ABX9TyMRfwhfuRohZdr43ZCkJ0gU"
    },
    "kernelspec": {
      "name": "python3",
      "display_name": "Python 3"
    },
    "language_info": {
      "name": "python"
    },
    "accelerator": "GPU"
  },
  "cells": [
    {
      "cell_type": "markdown",
      "metadata": {
        "id": "0imQmoyPZByU"
      },
      "source": [
        "# Setting up environment"
      ]
    },
    {
      "cell_type": "code",
      "metadata": {
        "colab": {
          "base_uri": "https://localhost:8080/",
          "height": 1000
        },
        "id": "dOEIKUE04b26",
        "outputId": "ab8f3781-5e3f-4e2a-95ab-9b6a547017c9"
      },
      "source": [
        "# Installing mmseg (or Clone mmseg repo & setup) \n",
        "!rm -rf mmsegmentation\n",
        "!git clone https://github.com/LARC-CMU-SMU/FoodSeg103-Benchmark-v1.git  \n",
        "%cd FoodSeg103-Benchmark-v1                                                 \n",
        "!pip install -e .\n",
        "!pip install -r requirements/optional.txt\n",
        "\n",
        "# Install PyTorch\n",
        "!pip install -U torch==1.5.0+cu101 torchvision==0.6.0+cu101 -f https://download.pytorch.org/whl/torch_stable.html\n",
        "# Install MMCV (+ addict & yapf)\n",
        "!pip install mmcv-full==1.3.0+torch1.5.0+cu101 -f https://download.openmmlab.com/mmcv/dist/index.html \n",
        "# Installing timm\n",
        "!pip install timm\n",
        "\n",
        "# Clone Volume Estimation Repo  #%cd ..\n",
        "!git clone https://github.com/fatimamds/dietlane_app_volume\n",
        "!mkdir input/\n",
        "# Install labelme\n",
        "!pip install labelme\n",
        "\n",
        "# Install Flask & Pyngrok for API\n",
        "!pip install flask-ngrok"
      ],
      "execution_count": null,
      "outputs": [
        {
          "output_type": "stream",
          "text": [
            "Cloning into 'FoodSeg103-Benchmark-v1'...\n",
            "remote: Enumerating objects: 775, done.\u001b[K\n",
            "remote: Counting objects: 100% (775/775), done.\u001b[K\n",
            "remote: Compressing objects: 100% (372/372), done.\u001b[K\n",
            "remote: Total 775 (delta 421), reused 728 (delta 394), pack-reused 0\u001b[K\n",
            "Receiving objects: 100% (775/775), 3.63 MiB | 8.91 MiB/s, done.\n",
            "Resolving deltas: 100% (421/421), done.\n",
            "/content/FoodSeg103-Benchmark-v1\n",
            "Obtaining file:///content/FoodSeg103-Benchmark-v1\n",
            "Requirement already satisfied: matplotlib in /usr/local/lib/python3.7/dist-packages (from mmsegmentation==0.11.0) (3.2.2)\n",
            "Requirement already satisfied: numpy in /usr/local/lib/python3.7/dist-packages (from mmsegmentation==0.11.0) (1.19.5)\n",
            "Collecting terminaltables\n",
            "  Downloading https://files.pythonhosted.org/packages/9b/c4/4a21174f32f8a7e1104798c445dacdc1d4df86f2f26722767034e4de4bff/terminaltables-3.1.0.tar.gz\n",
            "Requirement already satisfied: cycler>=0.10 in /usr/local/lib/python3.7/dist-packages (from matplotlib->mmsegmentation==0.11.0) (0.10.0)\n",
            "Requirement already satisfied: kiwisolver>=1.0.1 in /usr/local/lib/python3.7/dist-packages (from matplotlib->mmsegmentation==0.11.0) (1.3.1)\n",
            "Requirement already satisfied: pyparsing!=2.0.4,!=2.1.2,!=2.1.6,>=2.0.1 in /usr/local/lib/python3.7/dist-packages (from matplotlib->mmsegmentation==0.11.0) (2.4.7)\n",
            "Requirement already satisfied: python-dateutil>=2.1 in /usr/local/lib/python3.7/dist-packages (from matplotlib->mmsegmentation==0.11.0) (2.8.1)\n",
            "Requirement already satisfied: six in /usr/local/lib/python3.7/dist-packages (from cycler>=0.10->matplotlib->mmsegmentation==0.11.0) (1.15.0)\n",
            "Building wheels for collected packages: terminaltables\n",
            "  Building wheel for terminaltables (setup.py) ... \u001b[?25l\u001b[?25hdone\n",
            "  Created wheel for terminaltables: filename=terminaltables-3.1.0-cp37-none-any.whl size=15356 sha256=9942c97eff23ac923d9306ff876aec9bd14b6337e12a854acae436059f86b586\n",
            "  Stored in directory: /root/.cache/pip/wheels/30/6b/50/6c75775b681fb36cdfac7f19799888ef9d8813aff9e379663e\n",
            "Successfully built terminaltables\n",
            "Installing collected packages: terminaltables, mmsegmentation\n",
            "  Running setup.py develop for mmsegmentation\n",
            "Successfully installed mmsegmentation terminaltables-3.1.0\n",
            "Collecting cityscapesscripts\n",
            "\u001b[?25l  Downloading https://files.pythonhosted.org/packages/0d/3f/46aba88cf145984e8cf03017059abc327fa52b48060abcfc099132548aac/cityscapesScripts-2.2.0-py3-none-any.whl (472kB)\n",
            "\u001b[K     |████████████████████████████████| 481kB 8.3MB/s \n",
            "\u001b[?25hRequirement already satisfied: tqdm in /usr/local/lib/python3.7/dist-packages (from cityscapesscripts->-r requirements/optional.txt (line 1)) (4.41.1)\n",
            "Collecting typing\n",
            "\u001b[?25l  Downloading https://files.pythonhosted.org/packages/05/d9/6eebe19d46bd05360c9a9aae822e67a80f9242aabbfc58b641b957546607/typing-3.7.4.3.tar.gz (78kB)\n",
            "\u001b[K     |████████████████████████████████| 81kB 12.6MB/s \n",
            "\u001b[?25hCollecting coloredlogs\n",
            "\u001b[?25l  Downloading https://files.pythonhosted.org/packages/a7/06/3d6badcf13db419e25b07041d9c7b4a2c331d3f4e7134445ec5df57714cd/coloredlogs-15.0.1-py2.py3-none-any.whl (46kB)\n",
            "\u001b[K     |████████████████████████████████| 51kB 9.4MB/s \n",
            "\u001b[?25hRequirement already satisfied: matplotlib in /usr/local/lib/python3.7/dist-packages (from cityscapesscripts->-r requirements/optional.txt (line 1)) (3.2.2)\n",
            "Requirement already satisfied: appdirs in /usr/local/lib/python3.7/dist-packages (from cityscapesscripts->-r requirements/optional.txt (line 1)) (1.4.4)\n",
            "Requirement already satisfied: pillow in /usr/local/lib/python3.7/dist-packages (from cityscapesscripts->-r requirements/optional.txt (line 1)) (7.1.2)\n",
            "Collecting pyquaternion\n",
            "  Downloading https://files.pythonhosted.org/packages/49/b3/d8482e8cacc8ea15a356efea13d22ce1c5914a9ee36622ba250523240bf2/pyquaternion-0.9.9-py3-none-any.whl\n",
            "Requirement already satisfied: numpy in /usr/local/lib/python3.7/dist-packages (from cityscapesscripts->-r requirements/optional.txt (line 1)) (1.19.5)\n",
            "Collecting humanfriendly>=9.1\n",
            "\u001b[?25l  Downloading https://files.pythonhosted.org/packages/92/7e/a06472f484fa589933f39bfb41a7b849ca49f6d8e4fdfe978e27f0e3075c/humanfriendly-9.2-py2.py3-none-any.whl (86kB)\n",
            "\u001b[K     |████████████████████████████████| 92kB 13.1MB/s \n",
            "\u001b[?25hRequirement already satisfied: cycler>=0.10 in /usr/local/lib/python3.7/dist-packages (from matplotlib->cityscapesscripts->-r requirements/optional.txt (line 1)) (0.10.0)\n",
            "Requirement already satisfied: python-dateutil>=2.1 in /usr/local/lib/python3.7/dist-packages (from matplotlib->cityscapesscripts->-r requirements/optional.txt (line 1)) (2.8.1)\n",
            "Requirement already satisfied: pyparsing!=2.0.4,!=2.1.2,!=2.1.6,>=2.0.1 in /usr/local/lib/python3.7/dist-packages (from matplotlib->cityscapesscripts->-r requirements/optional.txt (line 1)) (2.4.7)\n",
            "Requirement already satisfied: kiwisolver>=1.0.1 in /usr/local/lib/python3.7/dist-packages (from matplotlib->cityscapesscripts->-r requirements/optional.txt (line 1)) (1.3.1)\n",
            "Requirement already satisfied: six in /usr/local/lib/python3.7/dist-packages (from cycler>=0.10->matplotlib->cityscapesscripts->-r requirements/optional.txt (line 1)) (1.15.0)\n",
            "Building wheels for collected packages: typing\n",
            "  Building wheel for typing (setup.py) ... \u001b[?25l\u001b[?25hdone\n",
            "  Created wheel for typing: filename=typing-3.7.4.3-cp37-none-any.whl size=26323 sha256=f3ac888c53ab8fa98d111d7a737f59cf0f2c109a24cfe558f2c3572ca734c9e0\n",
            "  Stored in directory: /root/.cache/pip/wheels/2d/04/41/8e1836e79581989c22eebac3f4e70aaac9af07b0908da173be\n",
            "Successfully built typing\n",
            "Installing collected packages: typing, humanfriendly, coloredlogs, pyquaternion, cityscapesscripts\n",
            "Successfully installed cityscapesscripts-2.2.0 coloredlogs-15.0.1 humanfriendly-9.2 pyquaternion-0.9.9 typing-3.7.4.3\n"
          ],
          "name": "stdout"
        },
        {
          "output_type": "display_data",
          "data": {
            "application/vnd.colab-display-data+json": {
              "pip_warning": {
                "packages": [
                  "typing"
                ]
              }
            }
          },
          "metadata": {
            "tags": []
          }
        },
        {
          "output_type": "stream",
          "text": [
            "Looking in links: https://download.pytorch.org/whl/torch_stable.html\n",
            "Collecting torch==1.5.0+cu101\n",
            "\u001b[?25l  Downloading https://download.pytorch.org/whl/cu101/torch-1.5.0%2Bcu101-cp37-cp37m-linux_x86_64.whl (703.8MB)\n",
            "\u001b[K     |████████████████████████████████| 703.8MB 27kB/s \n",
            "\u001b[?25hCollecting torchvision==0.6.0+cu101\n",
            "\u001b[?25l  Downloading https://download.pytorch.org/whl/cu101/torchvision-0.6.0%2Bcu101-cp37-cp37m-linux_x86_64.whl (6.6MB)\n",
            "\u001b[K     |████████████████████████████████| 6.6MB 48.7MB/s \n",
            "\u001b[?25hRequirement already satisfied, skipping upgrade: numpy in /usr/local/lib/python3.7/dist-packages (from torch==1.5.0+cu101) (1.19.5)\n",
            "Requirement already satisfied, skipping upgrade: future in /usr/local/lib/python3.7/dist-packages (from torch==1.5.0+cu101) (0.16.0)\n",
            "Requirement already satisfied, skipping upgrade: pillow>=4.1.1 in /usr/local/lib/python3.7/dist-packages (from torchvision==0.6.0+cu101) (7.1.2)\n",
            "\u001b[31mERROR: torchtext 0.10.0 has requirement torch==1.9.0, but you'll have torch 1.5.0+cu101 which is incompatible.\u001b[0m\n",
            "Installing collected packages: torch, torchvision\n",
            "  Found existing installation: torch 1.9.0+cu102\n",
            "    Uninstalling torch-1.9.0+cu102:\n",
            "      Successfully uninstalled torch-1.9.0+cu102\n",
            "  Found existing installation: torchvision 0.10.0+cu102\n",
            "    Uninstalling torchvision-0.10.0+cu102:\n",
            "      Successfully uninstalled torchvision-0.10.0+cu102\n",
            "Successfully installed torch-1.5.0+cu101 torchvision-0.6.0+cu101\n",
            "Looking in links: https://download.openmmlab.com/mmcv/dist/index.html\n",
            "Collecting mmcv-full==1.3.0+torch1.5.0+cu101\n",
            "\u001b[?25l  Downloading https://download.openmmlab.com/mmcv/dist/1.3.0/torch1.5.0/cu101/mmcv_full-1.3.0%2Btorch1.5.0%2Bcu101-cp37-cp37m-manylinux1_x86_64.whl (24.4MB)\n",
            "\u001b[K     |████████████████████████████████| 24.4MB 131kB/s \n",
            "\u001b[?25hRequirement already satisfied: opencv-python>=3 in /usr/local/lib/python3.7/dist-packages (from mmcv-full==1.3.0+torch1.5.0+cu101) (4.1.2.30)\n",
            "Collecting addict\n",
            "  Downloading https://files.pythonhosted.org/packages/6a/00/b08f23b7d7e1e14ce01419a467b583edbb93c6cdb8654e54a9cc579cd61f/addict-2.4.0-py3-none-any.whl\n",
            "Requirement already satisfied: pyyaml in /usr/local/lib/python3.7/dist-packages (from mmcv-full==1.3.0+torch1.5.0+cu101) (3.13)\n",
            "Requirement already satisfied: numpy in /usr/local/lib/python3.7/dist-packages (from mmcv-full==1.3.0+torch1.5.0+cu101) (1.19.5)\n",
            "Requirement already satisfied: Pillow in /usr/local/lib/python3.7/dist-packages (from mmcv-full==1.3.0+torch1.5.0+cu101) (7.1.2)\n",
            "Collecting yapf\n",
            "\u001b[?25l  Downloading https://files.pythonhosted.org/packages/5f/0d/8814e79eb865eab42d95023b58b650d01dec6f8ea87fc9260978b1bf2167/yapf-0.31.0-py2.py3-none-any.whl (185kB)\n",
            "\u001b[K     |████████████████████████████████| 194kB 8.2MB/s \n",
            "\u001b[?25hInstalling collected packages: addict, yapf, mmcv-full\n",
            "Successfully installed addict-2.4.0 mmcv-full-1.3.0 yapf-0.31.0\n",
            "Collecting timm\n",
            "\u001b[?25l  Downloading https://files.pythonhosted.org/packages/90/fc/606bc5cf46acac3aa9bd179b3954433c026aaf88ea98d6b19f5d14c336da/timm-0.4.12-py3-none-any.whl (376kB)\n",
            "\u001b[K     |████████████████████████████████| 378kB 9.6MB/s \n",
            "\u001b[?25hRequirement already satisfied: torchvision in /usr/local/lib/python3.7/dist-packages (from timm) (0.6.0+cu101)\n",
            "Requirement already satisfied: torch>=1.4 in /usr/local/lib/python3.7/dist-packages (from timm) (1.5.0+cu101)\n",
            "Requirement already satisfied: pillow>=4.1.1 in /usr/local/lib/python3.7/dist-packages (from torchvision->timm) (7.1.2)\n",
            "Requirement already satisfied: numpy in /usr/local/lib/python3.7/dist-packages (from torchvision->timm) (1.19.5)\n",
            "Requirement already satisfied: future in /usr/local/lib/python3.7/dist-packages (from torch>=1.4->timm) (0.16.0)\n",
            "Installing collected packages: timm\n",
            "Successfully installed timm-0.4.12\n",
            "Cloning into 'dietlane-app-volume'...\n",
            "remote: Enumerating objects: 129, done.\u001b[K\n",
            "remote: Counting objects: 100% (129/129), done.\u001b[K\n",
            "remote: Compressing objects: 100% (85/85), done.\u001b[K\n",
            "remote: Total 129 (delta 46), reused 118 (delta 38), pack-reused 0\u001b[K\n",
            "Receiving objects: 100% (129/129), 716.81 KiB | 2.82 MiB/s, done.\n",
            "Resolving deltas: 100% (46/46), done.\n",
            "Collecting labelme\n",
            "\u001b[?25l  Downloading https://files.pythonhosted.org/packages/50/32/13906b272dbc3e9756965182bec8357907d965dd6931fdbed83c87cdf940/labelme-4.5.9.tar.gz (1.5MB)\n",
            "\u001b[K     |████████████████████████████████| 1.5MB 8.3MB/s \n",
            "\u001b[?25hCollecting imgviz>=0.11.0\n",
            "\u001b[?25l  Downloading https://files.pythonhosted.org/packages/e9/71/a57677fcac28dce37869d1798ce1ca3bde44e9eabe016eed928187b888dc/imgviz-1.2.6.tar.gz (7.7MB)\n",
            "\u001b[K     |████████████████████████████████| 7.7MB 18.1MB/s \n",
            "\u001b[?25h  Installing build dependencies ... \u001b[?25l\u001b[?25hdone\n",
            "  Getting requirements to build wheel ... \u001b[?25l\u001b[?25hdone\n",
            "    Preparing wheel metadata ... \u001b[?25l\u001b[?25hdone\n",
            "Requirement already satisfied: matplotlib<3.3 in /usr/local/lib/python3.7/dist-packages (from labelme) (3.2.2)\n",
            "Requirement already satisfied: numpy in /usr/local/lib/python3.7/dist-packages (from labelme) (1.19.5)\n",
            "Requirement already satisfied: Pillow>=2.8.0 in /usr/local/lib/python3.7/dist-packages (from labelme) (7.1.2)\n",
            "Requirement already satisfied: PyYAML in /usr/local/lib/python3.7/dist-packages (from labelme) (3.13)\n",
            "Requirement already satisfied: qtpy in /usr/local/lib/python3.7/dist-packages (from labelme) (1.9.0)\n",
            "Requirement already satisfied: termcolor in /usr/local/lib/python3.7/dist-packages (from labelme) (1.1.0)\n",
            "Collecting PyQt5!=5.15.3,!=5.15.4\n",
            "\u001b[?25l  Downloading https://files.pythonhosted.org/packages/91/cf/cc705497cdae04c3c0bc34f94b91e31b6585bb65eb561f18473c998caae1/PyQt5-5.15.2-5.15.2-cp35.cp36.cp37.cp38.cp39-abi3-manylinux2014_x86_64.whl (68.3MB)\n",
            "\u001b[K     |████████████████████████████████| 68.3MB 44kB/s \n",
            "\u001b[?25hRequirement already satisfied: kiwisolver>=1.0.1 in /usr/local/lib/python3.7/dist-packages (from matplotlib<3.3->labelme) (1.3.1)\n",
            "Requirement already satisfied: cycler>=0.10 in /usr/local/lib/python3.7/dist-packages (from matplotlib<3.3->labelme) (0.10.0)\n",
            "Requirement already satisfied: python-dateutil>=2.1 in /usr/local/lib/python3.7/dist-packages (from matplotlib<3.3->labelme) (2.8.1)\n",
            "Requirement already satisfied: pyparsing!=2.0.4,!=2.1.2,!=2.1.6,>=2.0.1 in /usr/local/lib/python3.7/dist-packages (from matplotlib<3.3->labelme) (2.4.7)\n",
            "Collecting PyQt5-sip<13,>=12.8\n",
            "\u001b[?25l  Downloading https://files.pythonhosted.org/packages/e5/07/129815a9eac86f67c9b8198d26b4077fe80e261c197a19a245bc81ca3bf6/PyQt5_sip-12.9.0-cp37-cp37m-manylinux1_x86_64.whl (317kB)\n",
            "\u001b[K     |████████████████████████████████| 317kB 43.2MB/s \n",
            "\u001b[?25hRequirement already satisfied: six in /usr/local/lib/python3.7/dist-packages (from cycler>=0.10->matplotlib<3.3->labelme) (1.15.0)\n",
            "Building wheels for collected packages: imgviz\n",
            "  Building wheel for imgviz (PEP 517) ... \u001b[?25l\u001b[?25hdone\n",
            "  Created wheel for imgviz: filename=imgviz-1.2.6-cp37-none-any.whl size=7674115 sha256=626c38a93db49218581229b404f8a04a434a49cadbf2df3325b8134f64065133\n",
            "  Stored in directory: /root/.cache/pip/wheels/ba/52/63/39807618049f08b3531bdc8ca17dfed5fff0cd2fa282bf5b32\n",
            "Successfully built imgviz\n",
            "Building wheels for collected packages: labelme\n",
            "  Building wheel for labelme (setup.py) ... \u001b[?25l\u001b[?25hdone\n",
            "  Created wheel for labelme: filename=labelme-4.5.9-cp37-none-any.whl size=1465486 sha256=b05fec38cbdc1b5918e8d5009ff07c583d4c70b31dbc46396b7d212125be9b10\n",
            "  Stored in directory: /root/.cache/pip/wheels/01/18/e2/9b1362a33ec18e0abb8caa43105cbd3e3cb3bd1b0e8d8e23ac\n",
            "Successfully built labelme\n",
            "Installing collected packages: imgviz, PyQt5-sip, PyQt5, labelme\n",
            "Successfully installed PyQt5-5.15.2 PyQt5-sip-12.9.0 imgviz-1.2.6 labelme-4.5.9\n",
            "Collecting flask-ngrok\n",
            "  Downloading https://files.pythonhosted.org/packages/af/6c/f54cb686ad1129e27d125d182f90f52b32f284e6c8df58c1bae54fa1adbc/flask_ngrok-0.0.25-py3-none-any.whl\n",
            "Requirement already satisfied: requests in /usr/local/lib/python3.7/dist-packages (from flask-ngrok) (2.23.0)\n",
            "Requirement already satisfied: Flask>=0.8 in /usr/local/lib/python3.7/dist-packages (from flask-ngrok) (1.1.4)\n",
            "Requirement already satisfied: urllib3!=1.25.0,!=1.25.1,<1.26,>=1.21.1 in /usr/local/lib/python3.7/dist-packages (from requests->flask-ngrok) (1.24.3)\n",
            "Requirement already satisfied: idna<3,>=2.5 in /usr/local/lib/python3.7/dist-packages (from requests->flask-ngrok) (2.10)\n",
            "Requirement already satisfied: certifi>=2017.4.17 in /usr/local/lib/python3.7/dist-packages (from requests->flask-ngrok) (2021.5.30)\n",
            "Requirement already satisfied: chardet<4,>=3.0.2 in /usr/local/lib/python3.7/dist-packages (from requests->flask-ngrok) (3.0.4)\n",
            "Requirement already satisfied: Werkzeug<2.0,>=0.15 in /usr/local/lib/python3.7/dist-packages (from Flask>=0.8->flask-ngrok) (1.0.1)\n",
            "Requirement already satisfied: click<8.0,>=5.1 in /usr/local/lib/python3.7/dist-packages (from Flask>=0.8->flask-ngrok) (7.1.2)\n",
            "Requirement already satisfied: itsdangerous<2.0,>=0.24 in /usr/local/lib/python3.7/dist-packages (from Flask>=0.8->flask-ngrok) (1.1.0)\n",
            "Requirement already satisfied: Jinja2<3.0,>=2.10.1 in /usr/local/lib/python3.7/dist-packages (from Flask>=0.8->flask-ngrok) (2.11.3)\n",
            "Requirement already satisfied: MarkupSafe>=0.23 in /usr/local/lib/python3.7/dist-packages (from Jinja2<3.0,>=2.10.1->Flask>=0.8->flask-ngrok) (2.0.1)\n",
            "Installing collected packages: flask-ngrok\n",
            "Successfully installed flask-ngrok-0.0.25\n"
          ],
          "name": "stdout"
        }
      ]
    },
    {
      "cell_type": "markdown",
      "metadata": {
        "id": "Gyv6ZP3EaVXe"
      },
      "source": [
        "###### Checking Environment Installation & Importing Modules"
      ]
    },
    {
      "cell_type": "code",
      "metadata": {
        "id": "mAE_h7XhPT7d",
        "colab": {
          "base_uri": "https://localhost:8080/"
        },
        "outputId": "86eb7a3f-8799-48ed-e207-ccd642cd607b"
      },
      "source": [
        "# Check nvcc version - NVIDIA CUDA Compiler\n",
        "!nvcc -V\n",
        "# Check GCC version\n",
        "!gcc --version\n",
        "\n",
        "# Check Pytorch installation\n",
        "import torch, torchvision\n",
        "print(torch.__version__, torch.cuda.is_available())\n",
        "\n",
        "# Check MMSegmentation installation\n",
        "import mmseg\n",
        "from mmseg.apis import inference_segmentor, init_segmentor, show_result_pyplot\n",
        "from mmseg.core.evaluation import get_palette\n",
        "from dietlane_app_volume.palette import palette\n",
        "print(mmseg.__version__)\n",
        "\n",
        "# Import other required Modules\n",
        "import os                               # execfile('file.py')  # os.system('python file.py')\n",
        "import json\n",
        "import cv2\n",
        "import matplotlib.pyplot as plt"
      ],
      "execution_count": null,
      "outputs": [
        {
          "output_type": "stream",
          "text": [
            "nvcc: NVIDIA (R) Cuda compiler driver\n",
            "Copyright (c) 2005-2020 NVIDIA Corporation\n",
            "Built on Wed_Jul_22_19:09:09_PDT_2020\n",
            "Cuda compilation tools, release 11.0, V11.0.221\n",
            "Build cuda_11.0_bu.TC445_37.28845127_0\n",
            "gcc (Ubuntu 7.5.0-3ubuntu1~18.04) 7.5.0\n",
            "Copyright (C) 2017 Free Software Foundation, Inc.\n",
            "This is free software; see the source for copying conditions.  There is NO\n",
            "warranty; not even for MERCHANTABILITY or FITNESS FOR A PARTICULAR PURPOSE.\n",
            "\n",
            "1.5.0+cu101 True\n",
            "0.11.0\n"
          ],
          "name": "stdout"
        }
      ]
    },
    {
      "cell_type": "markdown",
      "metadata": {
        "id": "eT246Zf1ZG3K"
      },
      "source": [
        "# Fetching trained networks"
      ]
    },
    {
      "cell_type": "code",
      "metadata": {
        "id": "tNjw-PFvTTmr",
        "colab": {
          "base_uri": "https://localhost:8080/"
        },
        "outputId": "c70e6ac5-d84b-438b-cfaa-6bddc3628587"
      },
      "source": [
        "# Download our trained SEGMENTATION model (Encoder: ReLeM-R-50 |\tDecoder: CCNet)\n",
        "!wget --load-cookies /tmp/cookies.txt \"https://docs.google.com/uc?export=download&confirm=$(wget --quiet --save-cookies /tmp/cookies.txt --keep-session-cookies --no-check-certificate 'https://docs.google.com/uc?export=download&id=18XQnJFoxLF_2wFtFmcbQktJReOm-o64X' -O- | sed -rn 's/.*confirm=([0-9A-Za-z_]+).*/\\1\\n/p')&id=18XQnJFoxLF_2wFtFmcbQktJReOm-o64X\" -O iter_80000.pth && rm -rf /tmp/cookies.txt\n",
        "!wget --load-cookies /tmp/cookies.txt \"https://docs.google.com/uc?export=download&confirm=$(wget --quiet --save-cookies /tmp/cookies.txt --keep-session-cookies --no-check-certificate 'https://docs.google.com/uc?export=download&id=16bM9qJnAfDd_mELOZKjLvnI_taZYWqaH' -O- | sed -rn 's/.*confirm=([0-9A-Za-z_]+).*/\\1\\n/p')&id=16bM9qJnAfDd_mELOZKjLvnI_taZYWqaH\" -O ccnet_r50-d8_512x1024_80k.py && rm -rf /tmp/cookies.txt"
      ],
      "execution_count": null,
      "outputs": [
        {
          "output_type": "stream",
          "text": [
            "--2021-07-11 22:54:13--  https://docs.google.com/uc?export=download&confirm=Ow2Q&id=18XQnJFoxLF_2wFtFmcbQktJReOm-o64X\n",
            "Resolving docs.google.com (docs.google.com)... 142.251.2.138, 142.251.2.139, 142.251.2.101, ...\n",
            "Connecting to docs.google.com (docs.google.com)|142.251.2.138|:443... connected.\n",
            "HTTP request sent, awaiting response... 302 Moved Temporarily\n",
            "Location: https://doc-0c-8c-docs.googleusercontent.com/docs/securesc/87k3jjhisnahpbd70po57jqrib7ndfoo/d5dsdq32qqmp3274ngd7hiav3a5pvc0a/1626044025000/15780393842409038990/11237522626022811119Z/18XQnJFoxLF_2wFtFmcbQktJReOm-o64X?e=download [following]\n",
            "--2021-07-11 22:54:13--  https://doc-0c-8c-docs.googleusercontent.com/docs/securesc/87k3jjhisnahpbd70po57jqrib7ndfoo/d5dsdq32qqmp3274ngd7hiav3a5pvc0a/1626044025000/15780393842409038990/11237522626022811119Z/18XQnJFoxLF_2wFtFmcbQktJReOm-o64X?e=download\n",
            "Resolving doc-0c-8c-docs.googleusercontent.com (doc-0c-8c-docs.googleusercontent.com)... 142.251.2.132, 2607:f8b0:4023:c0d::84\n",
            "Connecting to doc-0c-8c-docs.googleusercontent.com (doc-0c-8c-docs.googleusercontent.com)|142.251.2.132|:443... connected.\n",
            "HTTP request sent, awaiting response... 302 Found\n",
            "Location: https://docs.google.com/nonceSigner?nonce=5e4mn56tgj8oi&continue=https://doc-0c-8c-docs.googleusercontent.com/docs/securesc/87k3jjhisnahpbd70po57jqrib7ndfoo/d5dsdq32qqmp3274ngd7hiav3a5pvc0a/1626044025000/15780393842409038990/11237522626022811119Z/18XQnJFoxLF_2wFtFmcbQktJReOm-o64X?e%3Ddownload&hash=d0uou4ft1fget32i8lpohnjebt61raaq [following]\n",
            "--2021-07-11 22:54:13--  https://docs.google.com/nonceSigner?nonce=5e4mn56tgj8oi&continue=https://doc-0c-8c-docs.googleusercontent.com/docs/securesc/87k3jjhisnahpbd70po57jqrib7ndfoo/d5dsdq32qqmp3274ngd7hiav3a5pvc0a/1626044025000/15780393842409038990/11237522626022811119Z/18XQnJFoxLF_2wFtFmcbQktJReOm-o64X?e%3Ddownload&hash=d0uou4ft1fget32i8lpohnjebt61raaq\n",
            "Connecting to docs.google.com (docs.google.com)|142.251.2.138|:443... connected.\n",
            "HTTP request sent, awaiting response... 302 Found\n",
            "Location: https://doc-0c-8c-docs.googleusercontent.com/docs/securesc/87k3jjhisnahpbd70po57jqrib7ndfoo/d5dsdq32qqmp3274ngd7hiav3a5pvc0a/1626044025000/15780393842409038990/11237522626022811119Z/18XQnJFoxLF_2wFtFmcbQktJReOm-o64X?e=download&nonce=5e4mn56tgj8oi&user=11237522626022811119Z&hash=d4frkjulecl94i64pgi7jqmeid7j4o6n [following]\n",
            "--2021-07-11 22:54:13--  https://doc-0c-8c-docs.googleusercontent.com/docs/securesc/87k3jjhisnahpbd70po57jqrib7ndfoo/d5dsdq32qqmp3274ngd7hiav3a5pvc0a/1626044025000/15780393842409038990/11237522626022811119Z/18XQnJFoxLF_2wFtFmcbQktJReOm-o64X?e=download&nonce=5e4mn56tgj8oi&user=11237522626022811119Z&hash=d4frkjulecl94i64pgi7jqmeid7j4o6n\n",
            "Connecting to doc-0c-8c-docs.googleusercontent.com (doc-0c-8c-docs.googleusercontent.com)|142.251.2.132|:443... connected.\n",
            "HTTP request sent, awaiting response... 200 OK\n",
            "Length: unspecified [application/x-zip]\n",
            "Saving to: ‘iter_80000.pth’\n",
            "\n",
            "iter_80000.pth          [    <=>             ] 380.89M  44.1MB/s    in 11s     \n",
            "\n",
            "2021-07-11 22:54:25 (34.2 MB/s) - ‘iter_80000.pth’ saved [399389758]\n",
            "\n",
            "--2021-07-11 22:54:26--  https://docs.google.com/uc?export=download&confirm=iQ6L&id=16bM9qJnAfDd_mELOZKjLvnI_taZYWqaH\n",
            "Resolving docs.google.com (docs.google.com)... 142.251.2.102, 142.251.2.101, 142.251.2.138, ...\n",
            "Connecting to docs.google.com (docs.google.com)|142.251.2.102|:443... connected.\n",
            "HTTP request sent, awaiting response... 302 Moved Temporarily\n",
            "Location: https://doc-14-6s-docs.googleusercontent.com/docs/securesc/rh1vvjhi2v7fmn8si25traurfmprlibo/qa9hokp789ets1ic07o1251in0irlhq5/1626044025000/15780393842409038990/06710501500129818973Z/16bM9qJnAfDd_mELOZKjLvnI_taZYWqaH?e=download [following]\n",
            "--2021-07-11 22:54:26--  https://doc-14-6s-docs.googleusercontent.com/docs/securesc/rh1vvjhi2v7fmn8si25traurfmprlibo/qa9hokp789ets1ic07o1251in0irlhq5/1626044025000/15780393842409038990/06710501500129818973Z/16bM9qJnAfDd_mELOZKjLvnI_taZYWqaH?e=download\n",
            "Resolving doc-14-6s-docs.googleusercontent.com (doc-14-6s-docs.googleusercontent.com)... 142.251.2.132, 2607:f8b0:4023:c0d::84\n",
            "Connecting to doc-14-6s-docs.googleusercontent.com (doc-14-6s-docs.googleusercontent.com)|142.251.2.132|:443... connected.\n",
            "HTTP request sent, awaiting response... 302 Found\n",
            "Location: https://docs.google.com/nonceSigner?nonce=q2krjtuh59mfk&continue=https://doc-14-6s-docs.googleusercontent.com/docs/securesc/rh1vvjhi2v7fmn8si25traurfmprlibo/qa9hokp789ets1ic07o1251in0irlhq5/1626044025000/15780393842409038990/06710501500129818973Z/16bM9qJnAfDd_mELOZKjLvnI_taZYWqaH?e%3Ddownload&hash=n0667e501r16beimr52o4vtrrc2ahpch [following]\n",
            "--2021-07-11 22:54:26--  https://docs.google.com/nonceSigner?nonce=q2krjtuh59mfk&continue=https://doc-14-6s-docs.googleusercontent.com/docs/securesc/rh1vvjhi2v7fmn8si25traurfmprlibo/qa9hokp789ets1ic07o1251in0irlhq5/1626044025000/15780393842409038990/06710501500129818973Z/16bM9qJnAfDd_mELOZKjLvnI_taZYWqaH?e%3Ddownload&hash=n0667e501r16beimr52o4vtrrc2ahpch\n",
            "Connecting to docs.google.com (docs.google.com)|142.251.2.102|:443... connected.\n",
            "HTTP request sent, awaiting response... 302 Found\n",
            "Location: https://doc-14-6s-docs.googleusercontent.com/docs/securesc/rh1vvjhi2v7fmn8si25traurfmprlibo/qa9hokp789ets1ic07o1251in0irlhq5/1626044025000/15780393842409038990/06710501500129818973Z/16bM9qJnAfDd_mELOZKjLvnI_taZYWqaH?e=download&nonce=q2krjtuh59mfk&user=06710501500129818973Z&hash=113d6ohtb0g3e5vkchkr4k1atp6j1s0g [following]\n",
            "--2021-07-11 22:54:26--  https://doc-14-6s-docs.googleusercontent.com/docs/securesc/rh1vvjhi2v7fmn8si25traurfmprlibo/qa9hokp789ets1ic07o1251in0irlhq5/1626044025000/15780393842409038990/06710501500129818973Z/16bM9qJnAfDd_mELOZKjLvnI_taZYWqaH?e=download&nonce=q2krjtuh59mfk&user=06710501500129818973Z&hash=113d6ohtb0g3e5vkchkr4k1atp6j1s0g\n",
            "Connecting to doc-14-6s-docs.googleusercontent.com (doc-14-6s-docs.googleusercontent.com)|142.251.2.132|:443... connected.\n",
            "HTTP request sent, awaiting response... 200 OK\n",
            "Length: 5930 (5.8K) [text/x-python]\n",
            "Saving to: ‘ccnet_r50-d8_512x1024_80k.py’\n",
            "\n",
            "ccnet_r50-d8_512x10 100%[===================>]   5.79K  --.-KB/s    in 0s      \n",
            "\n",
            "2021-07-11 22:54:27 (71.6 MB/s) - ‘ccnet_r50-d8_512x1024_80k.py’ saved [5930/5930]\n",
            "\n"
          ],
          "name": "stdout"
        }
      ]
    },
    {
      "cell_type": "code",
      "metadata": {
        "colab": {
          "base_uri": "https://localhost:8080/"
        },
        "id": "7SyPeGziy4pH",
        "outputId": "353eab9d-1ae0-4c19-dd5d-f40de010199a"
      },
      "source": [
        "# Download our trained DEPTH model (Senet)\n",
        "!wget --load-cookies /tmp/cookies.txt \"https://docs.google.com/uc?export=download&confirm=$(wget --quiet --save-cookies /tmp/cookies.txt --keep-session-cookies --no-check-certificate 'https://docs.google.com/uc?export=download&id=1QaUkdOiGpMuzMeWCGbey0sT0wXY0xtsj' -O- | sed -rn 's/.*confirm=([0-9A-Za-z_]+).*/\\1\\n/p')&id=1QaUkdOiGpMuzMeWCGbey0sT0wXY0xtsj\" -O pretrained_model.zip && rm -rf /tmp/cookies.txt\n",
        "!unzip pretrained_model.zip  #unzipping\n",
        "!rm -r pretrained_model.zip  #removing zipped file to free space"
      ],
      "execution_count": null,
      "outputs": [
        {
          "output_type": "stream",
          "text": [
            "--2021-07-11 22:48:53--  https://docs.google.com/uc?export=download&confirm=9G5S&id=1QaUkdOiGpMuzMeWCGbey0sT0wXY0xtsj\n",
            "Resolving docs.google.com (docs.google.com)... 142.251.2.100, 142.251.2.139, 142.251.2.113, ...\n",
            "Connecting to docs.google.com (docs.google.com)|142.251.2.100|:443... connected.\n",
            "HTTP request sent, awaiting response... 302 Moved Temporarily\n",
            "Location: https://doc-0k-5g-docs.googleusercontent.com/docs/securesc/s0qtomtut9576vnmneocesljso6v8q5k/7pagps0ns5vd56ifjqn8qemp7usmkch3/1626043725000/05335383375687547470/07621166637766165342Z/1QaUkdOiGpMuzMeWCGbey0sT0wXY0xtsj?e=download [following]\n",
            "--2021-07-11 22:48:53--  https://doc-0k-5g-docs.googleusercontent.com/docs/securesc/s0qtomtut9576vnmneocesljso6v8q5k/7pagps0ns5vd56ifjqn8qemp7usmkch3/1626043725000/05335383375687547470/07621166637766165342Z/1QaUkdOiGpMuzMeWCGbey0sT0wXY0xtsj?e=download\n",
            "Resolving doc-0k-5g-docs.googleusercontent.com (doc-0k-5g-docs.googleusercontent.com)... 142.251.2.132, 2607:f8b0:4023:c0d::84\n",
            "Connecting to doc-0k-5g-docs.googleusercontent.com (doc-0k-5g-docs.googleusercontent.com)|142.251.2.132|:443... connected.\n",
            "HTTP request sent, awaiting response... 302 Found\n",
            "Location: https://docs.google.com/nonceSigner?nonce=ir39bpsaulm90&continue=https://doc-0k-5g-docs.googleusercontent.com/docs/securesc/s0qtomtut9576vnmneocesljso6v8q5k/7pagps0ns5vd56ifjqn8qemp7usmkch3/1626043725000/05335383375687547470/07621166637766165342Z/1QaUkdOiGpMuzMeWCGbey0sT0wXY0xtsj?e%3Ddownload&hash=evl0p5g535nrkuqari09dcn6kp8k0evo [following]\n",
            "--2021-07-11 22:48:53--  https://docs.google.com/nonceSigner?nonce=ir39bpsaulm90&continue=https://doc-0k-5g-docs.googleusercontent.com/docs/securesc/s0qtomtut9576vnmneocesljso6v8q5k/7pagps0ns5vd56ifjqn8qemp7usmkch3/1626043725000/05335383375687547470/07621166637766165342Z/1QaUkdOiGpMuzMeWCGbey0sT0wXY0xtsj?e%3Ddownload&hash=evl0p5g535nrkuqari09dcn6kp8k0evo\n",
            "Connecting to docs.google.com (docs.google.com)|142.251.2.100|:443... connected.\n",
            "HTTP request sent, awaiting response... 302 Found\n",
            "Location: https://doc-0k-5g-docs.googleusercontent.com/docs/securesc/s0qtomtut9576vnmneocesljso6v8q5k/7pagps0ns5vd56ifjqn8qemp7usmkch3/1626043725000/05335383375687547470/07621166637766165342Z/1QaUkdOiGpMuzMeWCGbey0sT0wXY0xtsj?e=download&nonce=ir39bpsaulm90&user=07621166637766165342Z&hash=t51khqt8j8eakk96kg92ngpvo24vlh61 [following]\n",
            "--2021-07-11 22:48:53--  https://doc-0k-5g-docs.googleusercontent.com/docs/securesc/s0qtomtut9576vnmneocesljso6v8q5k/7pagps0ns5vd56ifjqn8qemp7usmkch3/1626043725000/05335383375687547470/07621166637766165342Z/1QaUkdOiGpMuzMeWCGbey0sT0wXY0xtsj?e=download&nonce=ir39bpsaulm90&user=07621166637766165342Z&hash=t51khqt8j8eakk96kg92ngpvo24vlh61\n",
            "Connecting to doc-0k-5g-docs.googleusercontent.com (doc-0k-5g-docs.googleusercontent.com)|142.251.2.132|:443... connected.\n",
            "HTTP request sent, awaiting response... 200 OK\n",
            "Length: unspecified [application/zip]\n",
            "Saving to: ‘pretrained_model.zip’\n",
            "\n",
            "pretrained_model.zi     [          <=>       ]   1.62G   160MB/s    in 12s     \n",
            "\n",
            "2021-07-11 22:49:05 (143 MB/s) - ‘pretrained_model.zip’ saved [1744324527]\n",
            "\n",
            "Archive:  pretrained_model.zip\n",
            "   creating: pretrained_model/\n",
            "   creating: pretrained_model/encoder/\n",
            "  inflating: pretrained_model/encoder/densenet161-8d451a50.pth  \n",
            "  inflating: pretrained_model/encoder/resnet50-19c8e357.pth  \n",
            "  inflating: pretrained_model/encoder/senet154-c7b49a05.pth  \n",
            "  inflating: pretrained_model/model_densenet  \n",
            "  inflating: pretrained_model/model_resnet  \n",
            "  inflating: pretrained_model/model_senet  \n"
          ],
          "name": "stdout"
        }
      ]
    },
    {
      "cell_type": "markdown",
      "metadata": {
        "id": "b-HZ3RbeRHPU"
      },
      "source": [
        "###### Building our Food Segmentation Model"
      ]
    },
    {
      "cell_type": "code",
      "metadata": {
        "id": "7grL1zEHRB3O"
      },
      "source": [
        "# build the model from a config file and a checkpoint file\n",
        "config_file = './ccnet_r50-d8_512x1024_80k.py' \n",
        "checkpoint_file = './iter_80000.pth'\n",
        "model = init_segmentor(config_file, checkpoint_file, device='cuda:0')"
      ],
      "execution_count": null,
      "outputs": []
    },
    {
      "cell_type": "markdown",
      "metadata": {
        "id": "6HXgASVjgFKI"
      },
      "source": [
        "# Executing program"
      ]
    },
    {
      "cell_type": "code",
      "metadata": {
        "id": "qc2AY_-N4QK9"
      },
      "source": [
        "def predict_mask():\n",
        "  # test a single image\n",
        "  img = 'input/test.png'\n",
        "  if cv2.imread(img).shape[2]==4:\n",
        "      img = img[:,:,:3]\n",
        "      cv2.imwrite('input/test.png', img)\n",
        "  result = inference_segmentor(model, img)\n",
        "  # save the visualization results to image files\n",
        "  model.show_result(img, result,  palette=palette, out_file='demo/result.png')\n",
        "\n",
        "# !python \"dietlane_app_volume/masktojson.py\"\n",
        "# !python \"dietlane_app_volume/demo.py\"\n",
        "def find_vol():\n",
        "  os.system('python dietlane_app_volume/masktojson.py')\n",
        "  os.system('python dietlane_app_volume/demo.py')\n",
        "  with open('output/volume.json') as json_file:\n",
        "    data = json.load(json_file)  # returns JSON object as a python dictionary/list\n",
        "  return data\n",
        "\n",
        "def clear_input():\n",
        "  os.remove(\"input/test.png\")\n",
        "\n",
        "def display_out():\n",
        "  with open('output/volume.json') as json_file:\n",
        "    data = json.load(json_file) \n",
        "  print(data)\n",
        "  org = cv2.cvtColor(cv2.imread(\"input/test.png\"), cv2.COLOR_BGR2RGB)\n",
        "  mask = cv2.cvtColor(cv2.imread(\"demo/rgb_mask.png\"), cv2.COLOR_BGR2RGB)\n",
        "  gray = cv2.cvtColor(cv2.imread(\"output/out_grey.png\"), cv2.COLOR_BGR2RGB)\n",
        "  rgbd = cv2.cvtColor(cv2.imread(\"output/out_color.png\"), cv2.COLOR_BGR2RGB)\n",
        "  array_img = [org, mask, gray, rgbd]\n",
        "  for i in range(4):\n",
        "    plt.subplot(2, 2, i+1)\n",
        "    plt.imshow(array_img[i])\n",
        "  plt.show()"
      ],
      "execution_count": null,
      "outputs": []
    },
    {
      "cell_type": "code",
      "metadata": {
        "colab": {
          "base_uri": "https://localhost:8080/"
        },
        "id": "FlCAxqUILgYN",
        "outputId": "11bc7dee-c936-4a4a-e8e2-b1e6c193bc5d"
      },
      "source": [
        "# clear_input()\n",
        "predict_mask()\n",
        "find_vol()"
      ],
      "execution_count": null,
      "outputs": [
        {
          "output_type": "execute_result",
          "data": {
            "text/plain": [
              "[{'calories': 180,\n",
              "  'carbs': 0.68,\n",
              "  'fats': 14.15,\n",
              "  'fiber': 0,\n",
              "  'measure': 21.77947823450511,\n",
              "  'name': 'egg',\n",
              "  'proteins': 11.76},\n",
              " {'calories': 144,\n",
              "  'carbs': 4.42,\n",
              "  'fats': 9.12,\n",
              "  'fiber': 0.7,\n",
              "  'measure': 30.746868704812634,\n",
              "  'name': 'steak',\n",
              "  'proteins': 11.87},\n",
              " {'calories': 175,\n",
              "  'carbs': 0.09,\n",
              "  'fats': 7.67,\n",
              "  'fiber': 0,\n",
              "  'measure': 49.7408040507199,\n",
              "  'name': 'chicken',\n",
              "  'proteins': 26.37},\n",
              " {'calories': 148,\n",
              "  'carbs': 15.47,\n",
              "  'fats': 6.14,\n",
              "  'fiber': 0.7,\n",
              "  'measure': 378.634919124176,\n",
              "  'name': 'noodles',\n",
              "  'proteins': 7.73}]"
            ]
          },
          "metadata": {
            "tags": []
          },
          "execution_count": 123
        }
      ]
    },
    {
      "cell_type": "code",
      "metadata": {
        "colab": {
          "base_uri": "https://localhost:8080/",
          "height": 306
        },
        "id": "dZoShQ5aFqse",
        "outputId": "389c4e8e-d748-43b7-bb1e-89818db0194e"
      },
      "source": [
        "display_out()"
      ],
      "execution_count": null,
      "outputs": [
        {
          "output_type": "stream",
          "text": [
            "[{'name': 'turkey', 'measure': 404.0728287052632, 'calories': 336, 'proteins': 18.91, 'fats': 28.23, 'carbs': 0, 'fiber': 0}, {'name': 'cilantro mint', 'measure': 40.36340921210434, 'calories': 23, 'proteins': 2.13, 'fats': 0.52, 'carbs': 3.67, 'fiber': 2.8}]\n"
          ],
          "name": "stdout"
        },
        {
          "output_type": "display_data",
          "data": {
            "image/png": "[encoded data removed]",
            "text/plain": [
              "<Figure size 432x288 with 4 Axes>"
            ]
          },
          "metadata": {
            "tags": [],
            "needs_background": "light"
          }
        }
      ]
    },
    {
      "cell_type": "markdown",
      "metadata": {
        "id": "C4O_J5k0c40b"
      },
      "source": [
        "# Setting up Flask API"
      ]
    },
    {
      "cell_type": "code",
      "metadata": {
        "id": "IL-Wy4xKH4Mj",
        "colab": {
          "base_uri": "https://localhost:8080/"
        },
        "outputId": "414f1956-44ec-42ec-f6ac-6a035e03e130"
      },
      "source": [
        "from flask import Flask\n",
        "from flask import jsonify, make_response, request\n",
        "from flask_ngrok import run_with_ngrok\n",
        "\n",
        "import numpy as np \n",
        "import base64\n",
        "\n",
        "#os.environ[\"FLASK_ENV\"] = \"development\"   #import os\n",
        "\n",
        "# Running the Flask app\n",
        "app = Flask(__name__)\n",
        "run_with_ngrok(app)\n",
        "\n",
        "# Define Flask routes\n",
        "@app.route(\"/\", methods=['GET'])\n",
        "def index():\n",
        "  return \"Hello from Colab!\"\n",
        "\n",
        "@app.route(\"/trialroute\")\n",
        "def postyy():\n",
        "  return \"Another hi\"\n",
        "\n",
        "@app.route('/uploadimage' , methods=['POST'])\n",
        "def predict_vol():\n",
        "  img_str = request.json['image']\n",
        "  org_str = base64.b64decode(img_str)\n",
        "  npimg = np.fromstring(org_str, np.uint8)\n",
        "  img = cv2.imdecode(npimg,cv2.IMREAD_COLOR)\n",
        "  clear_input()\n",
        "  cv2.imwrite('input/test.png', img)\n",
        "  predict_mask()\n",
        "  vol_data = find_vol()\n",
        "  print(vol_data)\n",
        "  return jsonify({'foodprofile': vol_data})\n",
        "\n",
        "if __name__ == '__main__':\n",
        "  app.run()  #app.run(Debug=True)   #if os.environ = development"
      ],
      "execution_count": null,
      "outputs": [
        {
          "output_type": "stream",
          "text": [
            " * Serving Flask app \"__main__\" (lazy loading)\n",
            " * Environment: production\n",
            "\u001b[31m   WARNING: This is a development server. Do not use it in a production deployment.\u001b[0m\n",
            "\u001b[2m   Use a production WSGI server instead.\u001b[0m\n",
            " * Debug mode: off\n"
          ],
          "name": "stdout"
        },
        {
          "output_type": "stream",
          "text": [
            " * Running on http://127.0.0.1:5000/ (Press CTRL+C to quit)\n"
          ],
          "name": "stderr"
        },
        {
          "output_type": "stream",
          "text": [
            " * Running on http://3c1f157477fc.ngrok.io\n",
            " * Traffic stats available on http://127.0.0.1:4040\n"
          ],
          "name": "stdout"
        },
        {
          "output_type": "stream",
          "text": [
            "127.0.0.1 - - [12/Jul/2021 01:10:55] \"\u001b[37mGET / HTTP/1.1\u001b[0m\" 200 -\n",
            "127.0.0.1 - - [12/Jul/2021 01:10:56] \"\u001b[33mGET /favicon.ico HTTP/1.1\u001b[0m\" 404 -\n",
            "127.0.0.1 - - [12/Jul/2021 01:10:57] \"\u001b[37mGET / HTTP/1.1\u001b[0m\" 200 -\n",
            "/usr/local/lib/python3.7/dist-packages/ipykernel_launcher.py:28: DeprecationWarning: The binary mode of fromstring is deprecated, as it behaves surprisingly on unicode inputs. Use frombuffer instead\n",
            "127.0.0.1 - - [12/Jul/2021 01:12:06] \"\u001b[37mPOST /uploadimage HTTP/1.1\u001b[0m\" 200 -\n"
          ],
          "name": "stderr"
        },
        {
          "output_type": "stream",
          "text": [
            "[{'name': 'turkey', 'measure': 404.0728287052632, 'calories': 336, 'proteins': 18.91, 'fats': 28.23, 'carbs': 0, 'fiber': 0}, {'name': 'cilantro mint', 'measure': 40.36340921210434, 'calories': 23, 'proteins': 2.13, 'fats': 0.52, 'carbs': 3.67, 'fiber': 2.8}]\n"
          ],
          "name": "stdout"
        }
      ]
    },
    {
      "cell_type": "code",
      "metadata": {
        "id": "A7UfRsO1GlKU"
      },
      "source": [
        "f = 15"
      ],
      "execution_count": null,
      "outputs": []
    }
  ]
}