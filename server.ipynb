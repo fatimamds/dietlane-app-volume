{
  "nbformat": 4,
  "nbformat_minor": 0,
  "metadata": {
    "colab": {
      "name": "server.ipynb",
      "provenance": [],
      "collapsed_sections": [],
      "toc_visible": true,
      "authorship_tag": "ABX9TyMuozPTAQQhl5XWgbCs1DEn"
    },
    "kernelspec": {
      "name": "python3",
      "display_name": "Python 3"
    },
    "language_info": {
      "name": "python"
    },
    "accelerator": "GPU"
  },
  "cells": [
    {
      "cell_type": "markdown",
      "metadata": {
        "id": "0imQmoyPZByU"
      },
      "source": [
        "# Setting up environment"
      ]
    },
    {
      "cell_type": "code",
      "metadata": {
        "colab": {
          "base_uri": "https://localhost:8080/",
          "height": 1000
        },
        "id": "dOEIKUE04b26",
        "outputId": "81dd7a32-e973-4c6b-eeab-bb877141ea20"
      },
      "source": [
        "# Installing mmseg (or Clone mmseg repo & setup) \n",
        "!rm -rf mmsegmentation\n",
        "!git clone https://github.com/LARC-CMU-SMU/FoodSeg103-Benchmark-v1.git  \n",
        "%cd FoodSeg103-Benchmark-v1                                                 \n",
        "!pip install -e .\n",
        "!pip install -r requirements/optional.txt\n",
        "\n",
        "# Install PyTorch\n",
        "!pip install -U torch==1.5.0+cu101 torchvision==0.6.0+cu101 -f https://download.pytorch.org/whl/torch_stable.html\n",
        "# Install MMCV (+ addict & yapf)\n",
        "!pip install mmcv-full==1.3.0+torch1.5.0+cu101 -f https://download.openmmlab.com/mmcv/dist/index.html \n",
        "# Installing timm\n",
        "!pip install timm\n",
        "\n",
        "# Clone Volume Estimation Repo  #%cd ..\n",
        "!git clone https://github.com/fatimamds/dietlane-app-volume\n",
        "!mkdir input/\n",
        "# Install labelme\n",
        "!pip install labelme\n",
        "\n",
        "# Install Flask & Pyngrok for API\n",
        "!pip install flask-ngrok"
      ],
      "execution_count": 1,
      "outputs": [
        {
          "output_type": "stream",
          "text": [
            "Cloning into 'FoodSeg103-Benchmark-v1'...\n",
            "remote: Enumerating objects: 775, done.\u001b[K\n",
            "remote: Counting objects: 100% (775/775), done.\u001b[K\n",
            "remote: Compressing objects: 100% (372/372), done.\u001b[K\n",
            "remote: Total 775 (delta 421), reused 728 (delta 394), pack-reused 0\u001b[K\n",
            "Receiving objects: 100% (775/775), 3.63 MiB | 13.56 MiB/s, done.\n",
            "Resolving deltas: 100% (421/421), done.\n",
            "/content/FoodSeg103-Benchmark-v1\n",
            "Obtaining file:///content/FoodSeg103-Benchmark-v1\n",
            "Requirement already satisfied: matplotlib in /usr/local/lib/python3.7/dist-packages (from mmsegmentation==0.11.0) (3.2.2)\n",
            "Requirement already satisfied: numpy in /usr/local/lib/python3.7/dist-packages (from mmsegmentation==0.11.0) (1.19.5)\n",
            "Collecting terminaltables\n",
            "  Downloading https://files.pythonhosted.org/packages/9b/c4/4a21174f32f8a7e1104798c445dacdc1d4df86f2f26722767034e4de4bff/terminaltables-3.1.0.tar.gz\n",
            "Requirement already satisfied: cycler>=0.10 in /usr/local/lib/python3.7/dist-packages (from matplotlib->mmsegmentation==0.11.0) (0.10.0)\n",
            "Requirement already satisfied: pyparsing!=2.0.4,!=2.1.2,!=2.1.6,>=2.0.1 in /usr/local/lib/python3.7/dist-packages (from matplotlib->mmsegmentation==0.11.0) (2.4.7)\n",
            "Requirement already satisfied: kiwisolver>=1.0.1 in /usr/local/lib/python3.7/dist-packages (from matplotlib->mmsegmentation==0.11.0) (1.3.1)\n",
            "Requirement already satisfied: python-dateutil>=2.1 in /usr/local/lib/python3.7/dist-packages (from matplotlib->mmsegmentation==0.11.0) (2.8.1)\n",
            "Requirement already satisfied: six in /usr/local/lib/python3.7/dist-packages (from cycler>=0.10->matplotlib->mmsegmentation==0.11.0) (1.15.0)\n",
            "Building wheels for collected packages: terminaltables\n",
            "  Building wheel for terminaltables (setup.py) ... \u001b[?25l\u001b[?25hdone\n",
            "  Created wheel for terminaltables: filename=terminaltables-3.1.0-cp37-none-any.whl size=15356 sha256=19964479ce699fab4abb54c1510aec08ac8cac7b19950dd0f2fef024ee3b8ef5\n",
            "  Stored in directory: /root/.cache/pip/wheels/30/6b/50/6c75775b681fb36cdfac7f19799888ef9d8813aff9e379663e\n",
            "Successfully built terminaltables\n",
            "Installing collected packages: terminaltables, mmsegmentation\n",
            "  Running setup.py develop for mmsegmentation\n",
            "Successfully installed mmsegmentation terminaltables-3.1.0\n",
            "Collecting cityscapesscripts\n",
            "\u001b[?25l  Downloading https://files.pythonhosted.org/packages/0d/3f/46aba88cf145984e8cf03017059abc327fa52b48060abcfc099132548aac/cityscapesScripts-2.2.0-py3-none-any.whl (472kB)\n",
            "\u001b[K     |████████████████████████████████| 481kB 7.6MB/s \n",
            "\u001b[?25hRequirement already satisfied: pillow in /usr/local/lib/python3.7/dist-packages (from cityscapesscripts->-r requirements/optional.txt (line 1)) (7.1.2)\n",
            "Collecting pyquaternion\n",
            "  Downloading https://files.pythonhosted.org/packages/49/b3/d8482e8cacc8ea15a356efea13d22ce1c5914a9ee36622ba250523240bf2/pyquaternion-0.9.9-py3-none-any.whl\n",
            "Requirement already satisfied: matplotlib in /usr/local/lib/python3.7/dist-packages (from cityscapesscripts->-r requirements/optional.txt (line 1)) (3.2.2)\n",
            "Requirement already satisfied: tqdm in /usr/local/lib/python3.7/dist-packages (from cityscapesscripts->-r requirements/optional.txt (line 1)) (4.41.1)\n",
            "Requirement already satisfied: numpy in /usr/local/lib/python3.7/dist-packages (from cityscapesscripts->-r requirements/optional.txt (line 1)) (1.19.5)\n",
            "Collecting coloredlogs\n",
            "\u001b[?25l  Downloading https://files.pythonhosted.org/packages/a7/06/3d6badcf13db419e25b07041d9c7b4a2c331d3f4e7134445ec5df57714cd/coloredlogs-15.0.1-py2.py3-none-any.whl (46kB)\n",
            "\u001b[K     |████████████████████████████████| 51kB 7.4MB/s \n",
            "\u001b[?25hRequirement already satisfied: appdirs in /usr/local/lib/python3.7/dist-packages (from cityscapesscripts->-r requirements/optional.txt (line 1)) (1.4.4)\n",
            "Collecting typing\n",
            "\u001b[?25l  Downloading https://files.pythonhosted.org/packages/05/d9/6eebe19d46bd05360c9a9aae822e67a80f9242aabbfc58b641b957546607/typing-3.7.4.3.tar.gz (78kB)\n",
            "\u001b[K     |████████████████████████████████| 81kB 8.2MB/s \n",
            "\u001b[?25hRequirement already satisfied: pyparsing!=2.0.4,!=2.1.2,!=2.1.6,>=2.0.1 in /usr/local/lib/python3.7/dist-packages (from matplotlib->cityscapesscripts->-r requirements/optional.txt (line 1)) (2.4.7)\n",
            "Requirement already satisfied: cycler>=0.10 in /usr/local/lib/python3.7/dist-packages (from matplotlib->cityscapesscripts->-r requirements/optional.txt (line 1)) (0.10.0)\n",
            "Requirement already satisfied: kiwisolver>=1.0.1 in /usr/local/lib/python3.7/dist-packages (from matplotlib->cityscapesscripts->-r requirements/optional.txt (line 1)) (1.3.1)\n",
            "Requirement already satisfied: python-dateutil>=2.1 in /usr/local/lib/python3.7/dist-packages (from matplotlib->cityscapesscripts->-r requirements/optional.txt (line 1)) (2.8.1)\n",
            "Collecting humanfriendly>=9.1\n",
            "\u001b[?25l  Downloading https://files.pythonhosted.org/packages/92/7e/a06472f484fa589933f39bfb41a7b849ca49f6d8e4fdfe978e27f0e3075c/humanfriendly-9.2-py2.py3-none-any.whl (86kB)\n",
            "\u001b[K     |████████████████████████████████| 92kB 8.4MB/s \n",
            "\u001b[?25hRequirement already satisfied: six in /usr/local/lib/python3.7/dist-packages (from cycler>=0.10->matplotlib->cityscapesscripts->-r requirements/optional.txt (line 1)) (1.15.0)\n",
            "Building wheels for collected packages: typing\n",
            "  Building wheel for typing (setup.py) ... \u001b[?25l\u001b[?25hdone\n",
            "  Created wheel for typing: filename=typing-3.7.4.3-cp37-none-any.whl size=26323 sha256=2a520595d221580c756e1c1d4e1afcc70b10e76bd9276e5974fbd0425ced14a0\n",
            "  Stored in directory: /root/.cache/pip/wheels/2d/04/41/8e1836e79581989c22eebac3f4e70aaac9af07b0908da173be\n",
            "Successfully built typing\n",
            "Installing collected packages: pyquaternion, humanfriendly, coloredlogs, typing, cityscapesscripts\n",
            "Successfully installed cityscapesscripts-2.2.0 coloredlogs-15.0.1 humanfriendly-9.2 pyquaternion-0.9.9 typing-3.7.4.3\n"
          ],
          "name": "stdout"
        },
        {
          "output_type": "display_data",
          "data": {
            "application/vnd.colab-display-data+json": {
              "pip_warning": {
                "packages": [
                  "typing"
                ]
              }
            }
          },
          "metadata": {
            "tags": []
          }
        },
        {
          "output_type": "stream",
          "text": [
            "Looking in links: https://download.pytorch.org/whl/torch_stable.html\n",
            "Collecting torch==1.5.0+cu101\n",
            "\u001b[?25l  Downloading https://download.pytorch.org/whl/cu101/torch-1.5.0%2Bcu101-cp37-cp37m-linux_x86_64.whl (703.8MB)\n",
            "\u001b[K     |████████████████████████████████| 703.8MB 25kB/s \n",
            "\u001b[?25hCollecting torchvision==0.6.0+cu101\n",
            "\u001b[?25l  Downloading https://download.pytorch.org/whl/cu101/torchvision-0.6.0%2Bcu101-cp37-cp37m-linux_x86_64.whl (6.6MB)\n",
            "\u001b[K     |████████████████████████████████| 6.6MB 61.1MB/s \n",
            "\u001b[?25hRequirement already satisfied, skipping upgrade: numpy in /usr/local/lib/python3.7/dist-packages (from torch==1.5.0+cu101) (1.19.5)\n",
            "Requirement already satisfied, skipping upgrade: future in /usr/local/lib/python3.7/dist-packages (from torch==1.5.0+cu101) (0.16.0)\n",
            "Requirement already satisfied, skipping upgrade: pillow>=4.1.1 in /usr/local/lib/python3.7/dist-packages (from torchvision==0.6.0+cu101) (7.1.2)\n",
            "\u001b[31mERROR: torchtext 0.10.0 has requirement torch==1.9.0, but you'll have torch 1.5.0+cu101 which is incompatible.\u001b[0m\n",
            "Installing collected packages: torch, torchvision\n",
            "  Found existing installation: torch 1.9.0+cu102\n",
            "    Uninstalling torch-1.9.0+cu102:\n",
            "      Successfully uninstalled torch-1.9.0+cu102\n",
            "  Found existing installation: torchvision 0.10.0+cu102\n",
            "    Uninstalling torchvision-0.10.0+cu102:\n",
            "      Successfully uninstalled torchvision-0.10.0+cu102\n",
            "Successfully installed torch-1.5.0+cu101 torchvision-0.6.0+cu101\n",
            "Looking in links: https://download.openmmlab.com/mmcv/dist/index.html\n",
            "Collecting mmcv-full==1.3.0+torch1.5.0+cu101\n",
            "\u001b[?25l  Downloading https://download.openmmlab.com/mmcv/dist/1.3.0/torch1.5.0/cu101/mmcv_full-1.3.0%2Btorch1.5.0%2Bcu101-cp37-cp37m-manylinux1_x86_64.whl (24.4MB)\n",
            "\u001b[K     |████████████████████████████████| 24.4MB 125kB/s \n",
            "\u001b[?25hRequirement already satisfied: Pillow in /usr/local/lib/python3.7/dist-packages (from mmcv-full==1.3.0+torch1.5.0+cu101) (7.1.2)\n",
            "Requirement already satisfied: pyyaml in /usr/local/lib/python3.7/dist-packages (from mmcv-full==1.3.0+torch1.5.0+cu101) (3.13)\n",
            "Requirement already satisfied: opencv-python>=3 in /usr/local/lib/python3.7/dist-packages (from mmcv-full==1.3.0+torch1.5.0+cu101) (4.1.2.30)\n",
            "Collecting addict\n",
            "  Downloading https://files.pythonhosted.org/packages/6a/00/b08f23b7d7e1e14ce01419a467b583edbb93c6cdb8654e54a9cc579cd61f/addict-2.4.0-py3-none-any.whl\n",
            "Requirement already satisfied: numpy in /usr/local/lib/python3.7/dist-packages (from mmcv-full==1.3.0+torch1.5.0+cu101) (1.19.5)\n",
            "Collecting yapf\n",
            "\u001b[?25l  Downloading https://files.pythonhosted.org/packages/5f/0d/8814e79eb865eab42d95023b58b650d01dec6f8ea87fc9260978b1bf2167/yapf-0.31.0-py2.py3-none-any.whl (185kB)\n",
            "\u001b[K     |████████████████████████████████| 194kB 8.4MB/s \n",
            "\u001b[?25hInstalling collected packages: addict, yapf, mmcv-full\n",
            "Successfully installed addict-2.4.0 mmcv-full-1.3.0 yapf-0.31.0\n",
            "Collecting timm\n",
            "\u001b[?25l  Downloading https://files.pythonhosted.org/packages/90/fc/606bc5cf46acac3aa9bd179b3954433c026aaf88ea98d6b19f5d14c336da/timm-0.4.12-py3-none-any.whl (376kB)\n",
            "\u001b[K     |████████████████████████████████| 378kB 7.5MB/s \n",
            "\u001b[?25hRequirement already satisfied: torchvision in /usr/local/lib/python3.7/dist-packages (from timm) (0.6.0+cu101)\n",
            "Requirement already satisfied: torch>=1.4 in /usr/local/lib/python3.7/dist-packages (from timm) (1.5.0+cu101)\n",
            "Requirement already satisfied: numpy in /usr/local/lib/python3.7/dist-packages (from torchvision->timm) (1.19.5)\n",
            "Requirement already satisfied: pillow>=4.1.1 in /usr/local/lib/python3.7/dist-packages (from torchvision->timm) (7.1.2)\n",
            "Requirement already satisfied: future in /usr/local/lib/python3.7/dist-packages (from torch>=1.4->timm) (0.16.0)\n",
            "Installing collected packages: timm\n",
            "Successfully installed timm-0.4.12\n",
            "Cloning into 'dietlane-app-volume'...\n",
            "remote: Enumerating objects: 110, done.\u001b[K\n",
            "remote: Counting objects: 100% (110/110), done.\u001b[K\n",
            "remote: Compressing objects: 100% (87/87), done.\u001b[K\n",
            "remote: Total 110 (delta 32), reused 91 (delta 16), pack-reused 0\u001b[K\n",
            "Receiving objects: 100% (110/110), 703.94 KiB | 17.60 MiB/s, done.\n",
            "Resolving deltas: 100% (32/32), done.\n",
            "Requirement already satisfied: flask in /usr/local/lib/python3.7/dist-packages (1.1.4)\n",
            "Requirement already satisfied: itsdangerous<2.0,>=0.24 in /usr/local/lib/python3.7/dist-packages (from flask) (1.1.0)\n",
            "Requirement already satisfied: Jinja2<3.0,>=2.10.1 in /usr/local/lib/python3.7/dist-packages (from flask) (2.11.3)\n",
            "Requirement already satisfied: click<8.0,>=5.1 in /usr/local/lib/python3.7/dist-packages (from flask) (7.1.2)\n",
            "Requirement already satisfied: Werkzeug<2.0,>=0.15 in /usr/local/lib/python3.7/dist-packages (from flask) (1.0.1)\n",
            "Requirement already satisfied: MarkupSafe>=0.23 in /usr/local/lib/python3.7/dist-packages (from Jinja2<3.0,>=2.10.1->flask) (2.0.1)\n",
            "Collecting pyngrok\n",
            "\u001b[?25l  Downloading https://files.pythonhosted.org/packages/6b/4e/a2fe095bbe17cf26424c4abcd22a0490e22d01cc628f25af5e220ddbf6f0/pyngrok-5.0.5.tar.gz (745kB)\n",
            "\u001b[K     |████████████████████████████████| 747kB 8.0MB/s \n",
            "\u001b[?25hRequirement already satisfied: PyYAML in /usr/local/lib/python3.7/dist-packages (from pyngrok) (3.13)\n",
            "Building wheels for collected packages: pyngrok\n",
            "  Building wheel for pyngrok (setup.py) ... \u001b[?25l\u001b[?25hdone\n",
            "  Created wheel for pyngrok: filename=pyngrok-5.0.5-cp37-none-any.whl size=19262 sha256=ea6730d94a55b03e64ad70b20957a0b28c13a301da4b095201a43ce91388559e\n",
            "  Stored in directory: /root/.cache/pip/wheels/0c/13/64/5ebbcc22eaf53fdf5766b397c1fb17c83f5775fdccf0ea1b88\n",
            "Successfully built pyngrok\n",
            "Installing collected packages: pyngrok\n",
            "Successfully installed pyngrok-5.0.5\n"
          ],
          "name": "stdout"
        }
      ]
    },
    {
      "cell_type": "markdown",
      "metadata": {
        "id": "Gyv6ZP3EaVXe"
      },
      "source": [
        "###### Checking Environment Installation & Importing Modules"
      ]
    },
    {
      "cell_type": "code",
      "metadata": {
        "id": "mAE_h7XhPT7d",
        "colab": {
          "base_uri": "https://localhost:8080/"
        },
        "outputId": "435f2b93-f20b-4e52-af92-a6f22af481d3"
      },
      "source": [
        "# Check nvcc version - NVIDIA CUDA Compiler\n",
        "!nvcc -V\n",
        "# Check GCC version\n",
        "!gcc --version\n",
        "\n",
        "# Check Pytorch installation\n",
        "import os\n",
        "import torch, torchvision\n",
        "print(torch.__version__, torch.cuda.is_available())\n",
        "\n",
        "# Check MMSegmentation installation\n",
        "import mmseg\n",
        "from mmseg.apis import inference_segmentor, init_segmentor, show_result_pyplot\n",
        "from mmseg.core.evaluation import get_palette\n",
        "print(mmseg.__version__)"
      ],
      "execution_count": 2,
      "outputs": [
        {
          "output_type": "stream",
          "text": [
            "nvcc: NVIDIA (R) Cuda compiler driver\n",
            "Copyright (c) 2005-2020 NVIDIA Corporation\n",
            "Built on Wed_Jul_22_19:09:09_PDT_2020\n",
            "Cuda compilation tools, release 11.0, V11.0.221\n",
            "Build cuda_11.0_bu.TC445_37.28845127_0\n",
            "gcc (Ubuntu 7.5.0-3ubuntu1~18.04) 7.5.0\n",
            "Copyright (C) 2017 Free Software Foundation, Inc.\n",
            "This is free software; see the source for copying conditions.  There is NO\n",
            "warranty; not even for MERCHANTABILITY or FITNESS FOR A PARTICULAR PURPOSE.\n",
            "\n",
            "1.5.0+cu101 True\n",
            "0.11.0\n"
          ],
          "name": "stdout"
        }
      ]
    },
    {
      "cell_type": "markdown",
      "metadata": {
        "id": "eT246Zf1ZG3K"
      },
      "source": [
        "# Fetching trained networks"
      ]
    },
    {
      "cell_type": "code",
      "metadata": {
        "colab": {
          "base_uri": "https://localhost:8080/"
        },
        "id": "7SyPeGziy4pH",
        "outputId": "00cd3626-cf32-471b-81fd-221ca5a04535"
      },
      "source": [
        "# Download our trained SEGMENTATION model (Encoder: ReLeM-R-50 |\tDecoder: CCNet)\n",
        "!wget --load-cookies /tmp/cookies.txt \"https://docs.google.com/uc?export=download&confirm=$(wget --quiet --save-cookies /tmp/cookies.txt --keep-session-cookies --no-check-certificate 'https://docs.google.com/uc?export=download&id=18XQnJFoxLF_2wFtFmcbQktJReOm-o64X' -O- | sed -rn 's/.*confirm=([0-9A-Za-z_]+).*/\\1\\n/p')&id=18XQnJFoxLF_2wFtFmcbQktJReOm-o64X\" -O iter_80000.pth && rm -rf /tmp/cookies.txt\n",
        "!wget --load-cookies /tmp/cookies.txt \"https://docs.google.com/uc?export=download&confirm=$(wget --quiet --save-cookies /tmp/cookies.txt --keep-session-cookies --no-check-certificate 'https://docs.google.com/uc?export=download&id=16bM9qJnAfDd_mELOZKjLvnI_taZYWqaH' -O- | sed -rn 's/.*confirm=([0-9A-Za-z_]+).*/\\1\\n/p')&id=16bM9qJnAfDd_mELOZKjLvnI_taZYWqaH\" -O ccnet_r50-d8_512x1024_80k.py && rm -rf /tmp/cookies.txt\n",
        "\n",
        "# Download our trained DEPTH model (Senet)\n",
        "!wget --load-cookies /tmp/cookies.txt \"https://docs.google.com/uc?export=download&confirm=$(wget --quiet --save-cookies /tmp/cookies.txt --keep-session-cookies --no-check-certificate 'https://docs.google.com/uc?export=download&id=1QaUkdOiGpMuzMeWCGbey0sT0wXY0xtsj' -O- | sed -rn 's/.*confirm=([0-9A-Za-z_]+).*/\\1\\n/p')&id=1QaUkdOiGpMuzMeWCGbey0sT0wXY0xtsj\" -O pretrained_model.zip && rm -rf /tmp/cookies.txt\n",
        "!unzip pretrained_model.zip  #unzipping\n",
        "!rm -r pretrained_model.zip  #removing zipped file to free space"
      ],
      "execution_count": 3,
      "outputs": [
        {
          "output_type": "stream",
          "text": [
            "--2021-07-06 18:12:19--  https://docs.google.com/uc?export=download&confirm=uijc&id=18XQnJFoxLF_2wFtFmcbQktJReOm-o64X\n",
            "Resolving docs.google.com (docs.google.com)... 74.125.135.100, 74.125.135.113, 74.125.135.102, ...\n",
            "Connecting to docs.google.com (docs.google.com)|74.125.135.100|:443... connected.\n",
            "HTTP request sent, awaiting response... 302 Moved Temporarily\n",
            "Location: https://doc-0g-50-docs.googleusercontent.com/docs/securesc/2e0ifvrlcqml0jorn9uaujugqc62e320/fir2o4rqhk3j5lag5jc28ejnud0lh93u/1625595075000/15780393842409038990/10723609525038516285Z/18XQnJFoxLF_2wFtFmcbQktJReOm-o64X?e=download [following]\n",
            "--2021-07-06 18:12:19--  https://doc-0g-50-docs.googleusercontent.com/docs/securesc/2e0ifvrlcqml0jorn9uaujugqc62e320/fir2o4rqhk3j5lag5jc28ejnud0lh93u/1625595075000/15780393842409038990/10723609525038516285Z/18XQnJFoxLF_2wFtFmcbQktJReOm-o64X?e=download\n",
            "Resolving doc-0g-50-docs.googleusercontent.com (doc-0g-50-docs.googleusercontent.com)... 74.125.142.132, 2607:f8b0:400e:c08::84\n",
            "Connecting to doc-0g-50-docs.googleusercontent.com (doc-0g-50-docs.googleusercontent.com)|74.125.142.132|:443... connected.\n",
            "HTTP request sent, awaiting response... 302 Found\n",
            "Location: https://docs.google.com/nonceSigner?nonce=e8il4tpmdfrl4&continue=https://doc-0g-50-docs.googleusercontent.com/docs/securesc/2e0ifvrlcqml0jorn9uaujugqc62e320/fir2o4rqhk3j5lag5jc28ejnud0lh93u/1625595075000/15780393842409038990/10723609525038516285Z/18XQnJFoxLF_2wFtFmcbQktJReOm-o64X?e%3Ddownload&hash=mtfihbmjksrn7loatc0n485se2ke3fks [following]\n",
            "--2021-07-06 18:12:19--  https://docs.google.com/nonceSigner?nonce=e8il4tpmdfrl4&continue=https://doc-0g-50-docs.googleusercontent.com/docs/securesc/2e0ifvrlcqml0jorn9uaujugqc62e320/fir2o4rqhk3j5lag5jc28ejnud0lh93u/1625595075000/15780393842409038990/10723609525038516285Z/18XQnJFoxLF_2wFtFmcbQktJReOm-o64X?e%3Ddownload&hash=mtfihbmjksrn7loatc0n485se2ke3fks\n",
            "Connecting to docs.google.com (docs.google.com)|74.125.135.100|:443... connected.\n",
            "HTTP request sent, awaiting response... 302 Found\n",
            "Location: https://doc-0g-50-docs.googleusercontent.com/docs/securesc/2e0ifvrlcqml0jorn9uaujugqc62e320/fir2o4rqhk3j5lag5jc28ejnud0lh93u/1625595075000/15780393842409038990/10723609525038516285Z/18XQnJFoxLF_2wFtFmcbQktJReOm-o64X?e=download&nonce=e8il4tpmdfrl4&user=10723609525038516285Z&hash=t5riruhmuntd0h02gr8h67pu9hg5dl8c [following]\n",
            "--2021-07-06 18:12:19--  https://doc-0g-50-docs.googleusercontent.com/docs/securesc/2e0ifvrlcqml0jorn9uaujugqc62e320/fir2o4rqhk3j5lag5jc28ejnud0lh93u/1625595075000/15780393842409038990/10723609525038516285Z/18XQnJFoxLF_2wFtFmcbQktJReOm-o64X?e=download&nonce=e8il4tpmdfrl4&user=10723609525038516285Z&hash=t5riruhmuntd0h02gr8h67pu9hg5dl8c\n",
            "Connecting to doc-0g-50-docs.googleusercontent.com (doc-0g-50-docs.googleusercontent.com)|74.125.142.132|:443... connected.\n",
            "HTTP request sent, awaiting response... 200 OK\n",
            "Length: unspecified [application/x-zip]\n",
            "Saving to: ‘iter_80000.pth’\n",
            "\n",
            "iter_80000.pth          [               <=>  ] 380.89M  93.3MB/s    in 4.1s    \n",
            "\n",
            "2021-07-06 18:12:24 (93.3 MB/s) - ‘iter_80000.pth’ saved [399389758]\n",
            "\n",
            "--2021-07-06 18:12:25--  https://docs.google.com/uc?export=download&confirm=ng3N&id=16bM9qJnAfDd_mELOZKjLvnI_taZYWqaH\n",
            "Resolving docs.google.com (docs.google.com)... 74.125.20.113, 74.125.20.138, 74.125.20.139, ...\n",
            "Connecting to docs.google.com (docs.google.com)|74.125.20.113|:443... connected.\n",
            "HTTP request sent, awaiting response... 302 Moved Temporarily\n",
            "Location: https://doc-14-6o-docs.googleusercontent.com/docs/securesc/p1fom3egj7gmkanehbc0e7ar16vcfq9j/gj9numau918r6cbe0erbp0an9gq1r73u/1625595075000/15780393842409038990/07198147665769086765Z/16bM9qJnAfDd_mELOZKjLvnI_taZYWqaH?e=download [following]\n",
            "--2021-07-06 18:12:25--  https://doc-14-6o-docs.googleusercontent.com/docs/securesc/p1fom3egj7gmkanehbc0e7ar16vcfq9j/gj9numau918r6cbe0erbp0an9gq1r73u/1625595075000/15780393842409038990/07198147665769086765Z/16bM9qJnAfDd_mELOZKjLvnI_taZYWqaH?e=download\n",
            "Resolving doc-14-6o-docs.googleusercontent.com (doc-14-6o-docs.googleusercontent.com)... 74.125.142.132, 2607:f8b0:400e:c08::84\n",
            "Connecting to doc-14-6o-docs.googleusercontent.com (doc-14-6o-docs.googleusercontent.com)|74.125.142.132|:443... connected.\n",
            "HTTP request sent, awaiting response... 302 Found\n",
            "Location: https://docs.google.com/nonceSigner?nonce=vpgr291t6od7q&continue=https://doc-14-6o-docs.googleusercontent.com/docs/securesc/p1fom3egj7gmkanehbc0e7ar16vcfq9j/gj9numau918r6cbe0erbp0an9gq1r73u/1625595075000/15780393842409038990/07198147665769086765Z/16bM9qJnAfDd_mELOZKjLvnI_taZYWqaH?e%3Ddownload&hash=1rdhboofshdht5r2sv3n14mp7ej7o089 [following]\n",
            "--2021-07-06 18:12:25--  https://docs.google.com/nonceSigner?nonce=vpgr291t6od7q&continue=https://doc-14-6o-docs.googleusercontent.com/docs/securesc/p1fom3egj7gmkanehbc0e7ar16vcfq9j/gj9numau918r6cbe0erbp0an9gq1r73u/1625595075000/15780393842409038990/07198147665769086765Z/16bM9qJnAfDd_mELOZKjLvnI_taZYWqaH?e%3Ddownload&hash=1rdhboofshdht5r2sv3n14mp7ej7o089\n",
            "Connecting to docs.google.com (docs.google.com)|74.125.20.113|:443... connected.\n",
            "HTTP request sent, awaiting response... 302 Found\n",
            "Location: https://doc-14-6o-docs.googleusercontent.com/docs/securesc/p1fom3egj7gmkanehbc0e7ar16vcfq9j/gj9numau918r6cbe0erbp0an9gq1r73u/1625595075000/15780393842409038990/07198147665769086765Z/16bM9qJnAfDd_mELOZKjLvnI_taZYWqaH?e=download&nonce=vpgr291t6od7q&user=07198147665769086765Z&hash=knsb38oqfmf9u8l5oi43bd9qbhgh3qo1 [following]\n",
            "--2021-07-06 18:12:25--  https://doc-14-6o-docs.googleusercontent.com/docs/securesc/p1fom3egj7gmkanehbc0e7ar16vcfq9j/gj9numau918r6cbe0erbp0an9gq1r73u/1625595075000/15780393842409038990/07198147665769086765Z/16bM9qJnAfDd_mELOZKjLvnI_taZYWqaH?e=download&nonce=vpgr291t6od7q&user=07198147665769086765Z&hash=knsb38oqfmf9u8l5oi43bd9qbhgh3qo1\n",
            "Connecting to doc-14-6o-docs.googleusercontent.com (doc-14-6o-docs.googleusercontent.com)|74.125.142.132|:443... connected.\n",
            "HTTP request sent, awaiting response... 200 OK\n",
            "Length: 5930 (5.8K) [text/x-python]\n",
            "Saving to: ‘ccnet_r50-d8_512x1024_80k.py’\n",
            "\n",
            "ccnet_r50-d8_512x10 100%[===================>]   5.79K  --.-KB/s    in 0s      \n",
            "\n",
            "2021-07-06 18:12:25 (47.7 MB/s) - ‘ccnet_r50-d8_512x1024_80k.py’ saved [5930/5930]\n",
            "\n",
            "--2021-07-06 18:12:26--  https://docs.google.com/uc?export=download&confirm=TfJQ&id=1QaUkdOiGpMuzMeWCGbey0sT0wXY0xtsj\n",
            "Resolving docs.google.com (docs.google.com)... 74.125.195.102, 74.125.195.113, 74.125.195.101, ...\n",
            "Connecting to docs.google.com (docs.google.com)|74.125.195.102|:443... connected.\n",
            "HTTP request sent, awaiting response... 302 Moved Temporarily\n",
            "Location: https://doc-0c-14-docs.googleusercontent.com/docs/securesc/ieuk2sbghgle47ce4b9ooc9855s1ib8e/chq80v9v2bkmjgbui4nb1uakhdpmqtrt/1625595075000/05335383375687547470/18266720831717946506Z/1QaUkdOiGpMuzMeWCGbey0sT0wXY0xtsj?e=download [following]\n",
            "--2021-07-06 18:12:26--  https://doc-0c-14-docs.googleusercontent.com/docs/securesc/ieuk2sbghgle47ce4b9ooc9855s1ib8e/chq80v9v2bkmjgbui4nb1uakhdpmqtrt/1625595075000/05335383375687547470/18266720831717946506Z/1QaUkdOiGpMuzMeWCGbey0sT0wXY0xtsj?e=download\n",
            "Resolving doc-0c-14-docs.googleusercontent.com (doc-0c-14-docs.googleusercontent.com)... 74.125.142.132, 2607:f8b0:400e:c08::84\n",
            "Connecting to doc-0c-14-docs.googleusercontent.com (doc-0c-14-docs.googleusercontent.com)|74.125.142.132|:443... connected.\n",
            "HTTP request sent, awaiting response... 302 Found\n",
            "Location: https://docs.google.com/nonceSigner?nonce=i9bumbm2kcn82&continue=https://doc-0c-14-docs.googleusercontent.com/docs/securesc/ieuk2sbghgle47ce4b9ooc9855s1ib8e/chq80v9v2bkmjgbui4nb1uakhdpmqtrt/1625595075000/05335383375687547470/18266720831717946506Z/1QaUkdOiGpMuzMeWCGbey0sT0wXY0xtsj?e%3Ddownload&hash=83hkbsrg8ntbmsnl9gai3jllvcaak66n [following]\n",
            "--2021-07-06 18:12:26--  https://docs.google.com/nonceSigner?nonce=i9bumbm2kcn82&continue=https://doc-0c-14-docs.googleusercontent.com/docs/securesc/ieuk2sbghgle47ce4b9ooc9855s1ib8e/chq80v9v2bkmjgbui4nb1uakhdpmqtrt/1625595075000/05335383375687547470/18266720831717946506Z/1QaUkdOiGpMuzMeWCGbey0sT0wXY0xtsj?e%3Ddownload&hash=83hkbsrg8ntbmsnl9gai3jllvcaak66n\n",
            "Connecting to docs.google.com (docs.google.com)|74.125.195.102|:443... connected.\n",
            "HTTP request sent, awaiting response... 302 Found\n",
            "Location: https://doc-0c-14-docs.googleusercontent.com/docs/securesc/ieuk2sbghgle47ce4b9ooc9855s1ib8e/chq80v9v2bkmjgbui4nb1uakhdpmqtrt/1625595075000/05335383375687547470/18266720831717946506Z/1QaUkdOiGpMuzMeWCGbey0sT0wXY0xtsj?e=download&nonce=i9bumbm2kcn82&user=18266720831717946506Z&hash=s3ofbr252c75hftpq22d6m402o8v0icn [following]\n",
            "--2021-07-06 18:12:26--  https://doc-0c-14-docs.googleusercontent.com/docs/securesc/ieuk2sbghgle47ce4b9ooc9855s1ib8e/chq80v9v2bkmjgbui4nb1uakhdpmqtrt/1625595075000/05335383375687547470/18266720831717946506Z/1QaUkdOiGpMuzMeWCGbey0sT0wXY0xtsj?e=download&nonce=i9bumbm2kcn82&user=18266720831717946506Z&hash=s3ofbr252c75hftpq22d6m402o8v0icn\n",
            "Connecting to doc-0c-14-docs.googleusercontent.com (doc-0c-14-docs.googleusercontent.com)|74.125.142.132|:443... connected.\n",
            "HTTP request sent, awaiting response... 200 OK\n",
            "Length: unspecified [application/zip]\n",
            "Saving to: ‘pretrained_model.zip’\n",
            "\n",
            "pretrained_model.zi     [  <=>               ]   1.62G  79.6MB/s    in 15s     \n",
            "\n",
            "2021-07-06 18:12:42 (111 MB/s) - ‘pretrained_model.zip’ saved [1744324527]\n",
            "\n",
            "Archive:  pretrained_model.zip\n",
            "checkdir error:  pretrained_model exists but is not directory\n",
            "                 unable to process pretrained_model/.\n",
            "checkdir error:  pretrained_model exists but is not directory\n",
            "                 unable to process pretrained_model/encoder/.\n",
            "checkdir error:  pretrained_model exists but is not directory\n",
            "                 unable to process pretrained_model/encoder/densenet161-8d451a50.pth.\n",
            "checkdir error:  pretrained_model exists but is not directory\n",
            "                 unable to process pretrained_model/encoder/resnet50-19c8e357.pth.\n",
            "checkdir error:  pretrained_model exists but is not directory\n",
            "                 unable to process pretrained_model/encoder/senet154-c7b49a05.pth.\n",
            "checkdir error:  pretrained_model exists but is not directory\n",
            "                 unable to process pretrained_model/model_densenet.\n",
            "checkdir error:  pretrained_model exists but is not directory\n",
            "                 unable to process pretrained_model/model_resnet.\n",
            "checkdir error:  pretrained_model exists but is not directory\n",
            "                 unable to process pretrained_model/model_senet.\n"
          ],
          "name": "stdout"
        }
      ]
    },
    {
      "cell_type": "markdown",
      "metadata": {
        "id": "b-HZ3RbeRHPU"
      },
      "source": [
        "###### Building our Food Segmentation Model"
      ]
    },
    {
      "cell_type": "code",
      "metadata": {
        "id": "7grL1zEHRB3O"
      },
      "source": [
        "# build the model from a config file and a checkpoint file\n",
        "config_file = './ccnet_r50-d8_512x1024_80k.py' \n",
        "checkpoint_file = './iter_80000.pth'\n",
        "model = init_segmentor(config_file, checkpoint_file, device='cuda:0')"
      ],
      "execution_count": null,
      "outputs": []
    },
    {
      "cell_type": "markdown",
      "metadata": {
        "id": "6HXgASVjgFKI"
      },
      "source": [
        "# Executing program"
      ]
    },
    {
      "cell_type": "code",
      "metadata": {
        "colab": {
          "base_uri": "https://localhost:8080/"
        },
        "id": "qc2AY_-N4QK9",
        "outputId": "2af41e81-6f60-4ab1-827d-a0406e0f84fb"
      },
      "source": [
        "def predict_mask():\n",
        "  # test a single image\n",
        "  img = 'input/test.png'    #img = Image.open(requests.get('http://images.xyz.com/9.jpg', stream=True).raw)  #import requests\n",
        "  result = inference_segmentor(model, img)\n",
        "  # save the visualization results to image files\n",
        "  model.show_result(img, result, out_file='demo/result.png')\n",
        "\n",
        "def find_vol():\n",
        "  execfile('dietlane-app-volume/masktojson.py') \n",
        "  execfile('dietlane-app-volume/demo.py')\n",
        "  with open('output/volume.json') as json_file:\n",
        "    data = json.load(json_file)  # returns JSON object as a dictionary\n",
        "  os.remove(\"input/test.png\")\n",
        "  os.remove(\"input/test.json\")\n",
        "  return data"
      ],
      "execution_count": 17,
      "outputs": [
        {
          "output_type": "stream",
          "text": [
            "dietlane-app-volume/demo.py:64: UserWarning: volatile was removed and now has no effect. Use `with torch.no_grad():` instead.\n",
            "  image = torch.autograd.Variable(image, volatile=True).cuda()\n",
            "/usr/local/lib/python3.7/dist-packages/torch/nn/functional.py:2796: UserWarning: nn.functional.upsample is deprecated. Use nn.functional.interpolate instead.\n",
            "  warnings.warn(\"nn.functional.upsample is deprecated. Use nn.functional.interpolate instead.\")\n",
            "/usr/local/lib/python3.7/dist-packages/torch/nn/functional.py:2973: UserWarning: Default upsampling behavior when mode=bilinear is changed to align_corners=False since 0.4.0. Please specify align_corners=True if the old behavior is desired. See the documentation of nn.Upsample for details.\n",
            "  \"See the documentation of nn.Upsample for details.\".format(mode))\n",
            "Volume:\n",
            "{'milk': 45.138711629698555, 'strawberry': 58.97066539926101, 'pork': 112.24262961009646, 'rice': 122.91126068590586, 'cabbage': 381.403468889156}\n",
            "unit: cm^3\n"
          ],
          "name": "stdout"
        }
      ]
    },
    {
      "cell_type": "markdown",
      "metadata": {
        "id": "C4O_J5k0c40b"
      },
      "source": [
        "# Setting up Flask API"
      ]
    },
    {
      "cell_type": "code",
      "metadata": {
        "id": "IL-Wy4xKH4Mj",
        "colab": {
          "base_uri": "https://localhost:8080/"
        },
        "outputId": "95104be5-2859-4a82-c11f-32a31fbc7841"
      },
      "source": [
        "from flask import Flask\n",
        "from flask import jsonify, make_response, request\n",
        "from flask_ngrok import run_with_ngrok\n",
        "\n",
        "import numpy as np \n",
        "import cv2\n",
        "import base64\n",
        "\n",
        "#os.environ[\"FLASK_ENV\"] = \"development\"\n",
        "\n",
        "# Running the Flask app\n",
        "app = Flask(__name__)\n",
        "run_with_ngrok(app)\n",
        "\n",
        "# Define Flask routes\n",
        "@app.route(\"/\", methods=['GET'])\n",
        "def index():\n",
        "  return \"Hello from Colab!\"\n",
        "\n",
        "@app.route(\"/trialroute\")\n",
        "def postyy():\n",
        "  return \"Another hi\"\n",
        "\n",
        "@app.route('/uploadimage' , methods=['POST'])\n",
        "def predict_vol():\n",
        "  img_str = request.json['image']\n",
        "  org_str = base64.b64decode(img_str)\n",
        "  npimg = np.fromstring(org_str, np.uint8)\n",
        "  img = cv2.imdecode(npimg,cv2.IMREAD_COLOR)\n",
        "  cv2.imwrite('input/test.png', img)\n",
        "  predict_mask()\n",
        "  vol_data = find_vol()\n",
        "  print(vol_data)\n",
        "  return jsonify(vol_data)\n",
        "\n",
        "if __name__ == '__main__':\n",
        "  app.run()  #app.run(Debug=True)   #if os.environ = development"
      ],
      "execution_count": null,
      "outputs": [
        {
          "output_type": "stream",
          "text": [
            " * Serving Flask app \"__main__\" (lazy loading)\n",
            " * Environment: production\n",
            "\u001b[31m   WARNING: This is a development server. Do not use it in a production deployment.\u001b[0m\n",
            "\u001b[2m   Use a production WSGI server instead.\u001b[0m\n",
            " * Debug mode: off\n"
          ],
          "name": "stdout"
        },
        {
          "output_type": "stream",
          "text": [
            " * Running on http://127.0.0.1:5000/ (Press CTRL+C to quit)\n"
          ],
          "name": "stderr"
        },
        {
          "output_type": "stream",
          "text": [
            " * Running on http://e2ca4da8adc4.ngrok.io\n",
            " * Traffic stats available on http://127.0.0.1:4040\n"
          ],
          "name": "stdout"
        },
        {
          "output_type": "stream",
          "text": [
            "127.0.0.1 - - [07/Jul/2021 00:15:20] \"\u001b[37mGET / HTTP/1.1\u001b[0m\" 200 -\n",
            "127.0.0.1 - - [07/Jul/2021 00:15:20] \"\u001b[33mGET /favicon.ico HTTP/1.1\u001b[0m\" 404 -\n",
            "127.0.0.1 - - [07/Jul/2021 00:15:21] \"\u001b[37mGET / HTTP/1.1\u001b[0m\" 200 -\n",
            "127.0.0.1 - - [07/Jul/2021 00:15:27] \"\u001b[37mGET /posty HTTP/1.1\u001b[0m\" 200 -\n",
            "127.0.0.1 - - [07/Jul/2021 00:15:27] \"\u001b[33mGET /favicon.ico HTTP/1.1\u001b[0m\" 404 -\n",
            "127.0.0.1 - - [07/Jul/2021 00:15:29] \"\u001b[37mGET /posty HTTP/1.1\u001b[0m\" 200 -\n",
            "/usr/local/lib/python3.7/dist-packages/ipykernel_launcher.py:28: DeprecationWarning: The binary mode of fromstring is deprecated, as it behaves surprisingly on unicode inputs. Use frombuffer instead\n",
            "[\u001b[1m\u001b[31mERROR  \u001b[0m] \u001b[36mapp\u001b[0m:\u001b[36mlog_exception\u001b[0m:\u001b[36m1892\u001b[0m - \u001b[1m\u001b[31mException on /uploadimage [POST]\u001b[0m\n",
            "Traceback (most recent call last):\n",
            "  File \"/usr/local/lib/python3.7/dist-packages/flask/app.py\", line 2447, in wsgi_app\n",
            "    response = self.full_dispatch_request()\n",
            "  File \"/usr/local/lib/python3.7/dist-packages/flask/app.py\", line 1952, in full_dispatch_request\n",
            "    rv = self.handle_user_exception(e)\n",
            "  File \"/usr/local/lib/python3.7/dist-packages/flask/app.py\", line 1821, in handle_user_exception\n",
            "    reraise(exc_type, exc_value, tb)\n",
            "  File \"/usr/local/lib/python3.7/dist-packages/flask/_compat.py\", line 39, in reraise\n",
            "    raise value\n",
            "  File \"/usr/local/lib/python3.7/dist-packages/flask/app.py\", line 1950, in full_dispatch_request\n",
            "    rv = self.dispatch_request()\n",
            "  File \"/usr/local/lib/python3.7/dist-packages/flask/app.py\", line 1936, in dispatch_request\n",
            "    return self.view_functions[rule.endpoint](**req.view_args)\n",
            "  File \"<ipython-input-9-a7d4a4f90386>\", line 32, in predict_vol\n",
            "    vol_data = find_vol()\n",
            "  File \"<ipython-input-6-f420e32c7aff>\", line 9, in find_vol\n",
            "    execfile('dietlane-app-volume/masktojson.py')\n",
            "  File \"/usr/local/lib/python3.7/dist-packages/debugpy/_vendored/pydevd/_pydev_imps/_pydev_execfile.py\", line 25, in execfile\n",
            "    exec(compile(contents+\"\\n\", file, 'exec'), glob, loc)\n",
            "  File \"dietlane-app-volume/masktojson.py\", line 6, in <module>\n",
            "    import palette as pal\n",
            "ModuleNotFoundError: No module named 'palette'\n",
            "127.0.0.1 - - [07/Jul/2021 00:17:24] \"\u001b[35m\u001b[1mPOST /uploadimage HTTP/1.1\u001b[0m\" 500 -\n"
          ],
          "name": "stderr"
        }
      ]
    }
  ]
}